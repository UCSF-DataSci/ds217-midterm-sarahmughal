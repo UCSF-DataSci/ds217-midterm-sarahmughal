{
 "cells": [
  {
   "cell_type": "markdown",
   "metadata": {},
   "source": [
    "# Assignment 5, Question 4: Data Exploration\n",
    "\n",
    "**Points: 15**\n",
    "\n",
    "In this notebook, you'll explore the clinical trial dataset using pandas selection and filtering techniques.\n",
    "\n",
    "You'll use utility functions from `q3_data_utils` where helpful, but also demonstrate direct pandas operations."
   ]
  },
  {
   "cell_type": "markdown",
   "metadata": {},
   "source": [
    "## Setup"
   ]
  },
  {
   "cell_type": "code",
   "execution_count": 18,
   "metadata": {},
   "outputs": [
    {
     "name": "stdout",
     "output_type": "stream",
     "text": [
      "Loaded 10000 patients with 18 variables\n"
     ]
    }
   ],
   "source": [
    "import pandas as pd\n",
    "import numpy as np\n",
    "import matplotlib.pyplot as plt\n",
    "\n",
    "# Import utilities from Q3\n",
    "from q3_data_utils import load_data, detect_missing, filter_data\n",
    "\n",
    "# Load the data with a safe fallback in case load_data returns None or fails\n",
    "try:\n",
    "    df = load_data(\"data/clinical_trial_raw.csv\")\n",
    "except Exception:\n",
    "    df = None\n",
    "\n",
    "# If the utility returned None (or failed), fall back to pandas.read_csv\n",
    "if df is None:\n",
    "    df = pd.read_csv(\"data/clinical_trial_raw.csv\")\n",
    "\n",
    "print(f\"Loaded {len(df)} patients with {len(df.columns)} variables\")\n",
    "\n",
    "\n",
    "# Prewritten visualization functions for exploration\n",
    "def plot_value_counts(series, title, figsize=(10, 6)):\n",
    "    \"\"\"\n",
    "    Create a bar chart of value counts.\n",
    "\n",
    "    Args:\n",
    "        series: pandas Series with value counts\n",
    "        title: Chart title\n",
    "        figsize: Figure size tuple\n",
    "    \"\"\"\n",
    "    plt.figure(figsize=figsize)\n",
    "    series.plot(kind=\"bar\")\n",
    "    plt.title(title)\n",
    "    plt.xticks(rotation=45)\n",
    "    plt.tight_layout()\n",
    "    plt.show()\n",
    "\n",
    "\n",
    "def plot_crosstab(crosstab_data, title, figsize=(10, 6)):\n",
    "    \"\"\"\n",
    "    Create a heatmap of crosstab data.\n",
    "\n",
    "    Args:\n",
    "        crosstab_data: pandas DataFrame from pd.crosstab()\n",
    "        title: Chart title\n",
    "        figsize: Figure size tuple\n",
    "    \"\"\"\n",
    "    plt.figure(figsize=figsize)\n",
    "    plt.imshow(crosstab_data.values, cmap=\"Blues\", aspect=\"auto\")\n",
    "    plt.colorbar()\n",
    "    plt.title(title)\n",
    "    plt.xticks(range(len(crosstab_data.columns)), crosstab_data.columns, rotation=45)\n",
    "    plt.yticks(range(len(crosstab_data.index)), crosstab_data.index)\n",
    "    plt.tight_layout()\n",
    "    plt.show()"
   ]
  },
  {
   "cell_type": "markdown",
   "metadata": {},
   "source": [
    "## Part 1: Basic Exploration (3 points)\n",
    "\n",
    "Display:\n",
    "1. Dataset shape\n",
    "2. Column names and types\n",
    "3. First 10 rows\n",
    "4. Summary statistics (.describe())"
   ]
  },
  {
   "cell_type": "code",
   "execution_count": 19,
   "metadata": {},
   "outputs": [
    {
     "name": "stdout",
     "output_type": "stream",
     "text": [
      "Dataset Shape:\n"
     ]
    },
    {
     "data": {
      "text/plain": [
       "(10000, 18)"
      ]
     },
     "metadata": {},
     "output_type": "display_data"
    },
    {
     "name": "stdout",
     "output_type": "stream",
     "text": [
      "Dataset Info:\n",
      "<class 'pandas.core.frame.DataFrame'>\n",
      "RangeIndex: 10000 entries, 0 to 9999\n",
      "Data columns (total 18 columns):\n",
      " #   Column              Non-Null Count  Dtype  \n",
      "---  ------              --------------  -----  \n",
      " 0   patient_id          10000 non-null  object \n",
      " 1   age                 10000 non-null  int64  \n",
      " 2   sex                 10000 non-null  object \n",
      " 3   bmi                 9562 non-null   float64\n",
      " 4   enrollment_date     10000 non-null  object \n",
      " 5   systolic_bp         9586 non-null   float64\n",
      " 6   diastolic_bp        9586 non-null   float64\n",
      " 7   cholesterol_total   9446 non-null   float64\n",
      " 8   cholesterol_hdl     9446 non-null   float64\n",
      " 9   cholesterol_ldl     9446 non-null   float64\n",
      " 10  glucose_fasting     9631 non-null   float64\n",
      " 11  site                10000 non-null  object \n",
      " 12  intervention_group  10000 non-null  object \n",
      " 13  follow_up_months    10000 non-null  int64  \n",
      " 14  adverse_events      10000 non-null  int64  \n",
      " 15  outcome_cvd         10000 non-null  object \n",
      " 16  adherence_pct       8533 non-null   float64\n",
      " 17  dropout             10000 non-null  object \n",
      "dtypes: float64(8), int64(3), object(7)\n",
      "memory usage: 1.4+ MB\n",
      "First 10 Rows:\n"
     ]
    },
    {
     "data": {
      "application/vnd.microsoft.datawrangler.viewer.v0+json": {
       "columns": [
        {
         "name": "index",
         "rawType": "int64",
         "type": "integer"
        },
        {
         "name": "patient_id",
         "rawType": "object",
         "type": "string"
        },
        {
         "name": "age",
         "rawType": "int64",
         "type": "integer"
        },
        {
         "name": "sex",
         "rawType": "object",
         "type": "string"
        },
        {
         "name": "bmi",
         "rawType": "float64",
         "type": "float"
        },
        {
         "name": "enrollment_date",
         "rawType": "object",
         "type": "string"
        },
        {
         "name": "systolic_bp",
         "rawType": "float64",
         "type": "float"
        },
        {
         "name": "diastolic_bp",
         "rawType": "float64",
         "type": "float"
        },
        {
         "name": "cholesterol_total",
         "rawType": "float64",
         "type": "float"
        },
        {
         "name": "cholesterol_hdl",
         "rawType": "float64",
         "type": "float"
        },
        {
         "name": "cholesterol_ldl",
         "rawType": "float64",
         "type": "float"
        },
        {
         "name": "glucose_fasting",
         "rawType": "float64",
         "type": "float"
        },
        {
         "name": "site",
         "rawType": "object",
         "type": "string"
        },
        {
         "name": "intervention_group",
         "rawType": "object",
         "type": "string"
        },
        {
         "name": "follow_up_months",
         "rawType": "int64",
         "type": "integer"
        },
        {
         "name": "adverse_events",
         "rawType": "int64",
         "type": "integer"
        },
        {
         "name": "outcome_cvd",
         "rawType": "object",
         "type": "string"
        },
        {
         "name": "adherence_pct",
         "rawType": "float64",
         "type": "float"
        },
        {
         "name": "dropout",
         "rawType": "object",
         "type": "string"
        }
       ],
       "ref": "ee8312b8-4f67-4be0-8df0-26c698b15b59",
       "rows": [
        [
         "0",
         "P00001",
         "80",
         "F",
         "29.3",
         "2022-05-01",
         "123.0",
         "80.0",
         "120.0",
         "55.0",
         "41.0",
         "118.0",
         "site b",
         "Control",
         "20",
         "0",
         "No",
         "24.0",
         "No"
        ],
        [
         "1",
         "P00002",
         "80",
         "  Female  ",
         null,
         "2022-01-06",
         "139.0",
         "81.0",
         "206.0",
         "58.0",
         "107.0",
         "79.0",
         "Site A",
         "CONTROL",
         "24",
         "0",
         "No",
         "77.0",
         "No"
        ],
        [
         "2",
         "P00003",
         "82",
         "Female",
         "-1.0",
         "2023-11-04",
         "123.0",
         "86.0",
         "172.0",
         "56.0",
         "82.0",
         "77.0",
         "SITE C",
         "  treatment b  ",
         "2",
         "0",
         "Yes",
         "70.0",
         "No"
        ],
        [
         "3",
         "P00004",
         "95",
         "Female",
         "25.4",
         "2022-08-15",
         "116.0",
         "77.0",
         "200.0",
         "56.0",
         "104.0",
         "115.0",
         "Site D",
         "treatment b",
         "17",
         "0",
         "No",
         "62.0",
         "No"
        ],
        [
         "4",
         "P00005",
         "95",
         "M",
         null,
         "2023-04-17",
         "97.0",
         "71.0",
         "185.0",
         "78.0",
         "75.0",
         "113.0",
         "site e",
         "Treatmen A",
         "9",
         "0",
         "yes",
         null,
         "Yes"
        ],
        [
         "5",
         "P00006",
         "78",
         "F",
         "26.8",
         "2023-08-29",
         "116.0",
         "66.0",
         "164.0",
         "54.0",
         "99.0",
         "99.0",
         "Site A",
         "TreatmentA",
         "4",
         "0",
         "yes",
         null,
         "Yes"
        ],
        [
         "6",
         "P00007",
         "84",
         "F",
         "25.4",
         "2022-05-12",
         "133.0",
         "100.0",
         "215.0",
         "62.0",
         "113.0",
         "70.0",
         "site a",
         "treatment a",
         "20",
         "1",
         "No",
         "76.0",
         "No"
        ],
        [
         "7",
         "P00008",
         "70",
         "Male",
         "24.7",
         "2022-06-04",
         "111.0",
         "72.0",
         "174.0",
         "60.0",
         "94.0",
         "109.0",
         "SITE B",
         "TREATMENT A",
         "19",
         "0",
         "No",
         "53.0",
         "No"
        ],
        [
         "8",
         "P00009",
         "92",
         "Female",
         "26.9",
         "2022-04-06",
         null,
         null,
         "189.0",
         "62.0",
         "89.0",
         "103.0",
         "site a",
         "Control",
         "21",
         "0",
         "yes",
         "53.0",
         "No"
        ],
        [
         "9",
         "P00010",
         "75",
         "Male",
         "21.1",
         "2023-12-14",
         "128.0",
         "76.0",
         "218.0",
         "77.0",
         "97.0",
         "96.0",
         "SITE A",
         "Treatment B",
         "1",
         "0",
         "No",
         "50.0",
         "No"
        ]
       ],
       "shape": {
        "columns": 18,
        "rows": 10
       }
      },
      "text/html": [
       "<div>\n",
       "<style scoped>\n",
       "    .dataframe tbody tr th:only-of-type {\n",
       "        vertical-align: middle;\n",
       "    }\n",
       "\n",
       "    .dataframe tbody tr th {\n",
       "        vertical-align: top;\n",
       "    }\n",
       "\n",
       "    .dataframe thead th {\n",
       "        text-align: right;\n",
       "    }\n",
       "</style>\n",
       "<table border=\"1\" class=\"dataframe\">\n",
       "  <thead>\n",
       "    <tr style=\"text-align: right;\">\n",
       "      <th></th>\n",
       "      <th>patient_id</th>\n",
       "      <th>age</th>\n",
       "      <th>sex</th>\n",
       "      <th>bmi</th>\n",
       "      <th>enrollment_date</th>\n",
       "      <th>systolic_bp</th>\n",
       "      <th>diastolic_bp</th>\n",
       "      <th>cholesterol_total</th>\n",
       "      <th>cholesterol_hdl</th>\n",
       "      <th>cholesterol_ldl</th>\n",
       "      <th>glucose_fasting</th>\n",
       "      <th>site</th>\n",
       "      <th>intervention_group</th>\n",
       "      <th>follow_up_months</th>\n",
       "      <th>adverse_events</th>\n",
       "      <th>outcome_cvd</th>\n",
       "      <th>adherence_pct</th>\n",
       "      <th>dropout</th>\n",
       "    </tr>\n",
       "  </thead>\n",
       "  <tbody>\n",
       "    <tr>\n",
       "      <th>0</th>\n",
       "      <td>P00001</td>\n",
       "      <td>80</td>\n",
       "      <td>F</td>\n",
       "      <td>29.3</td>\n",
       "      <td>2022-05-01</td>\n",
       "      <td>123.0</td>\n",
       "      <td>80.0</td>\n",
       "      <td>120.0</td>\n",
       "      <td>55.0</td>\n",
       "      <td>41.0</td>\n",
       "      <td>118.0</td>\n",
       "      <td>site b</td>\n",
       "      <td>Control</td>\n",
       "      <td>20</td>\n",
       "      <td>0</td>\n",
       "      <td>No</td>\n",
       "      <td>24.0</td>\n",
       "      <td>No</td>\n",
       "    </tr>\n",
       "    <tr>\n",
       "      <th>1</th>\n",
       "      <td>P00002</td>\n",
       "      <td>80</td>\n",
       "      <td>Female</td>\n",
       "      <td>NaN</td>\n",
       "      <td>2022-01-06</td>\n",
       "      <td>139.0</td>\n",
       "      <td>81.0</td>\n",
       "      <td>206.0</td>\n",
       "      <td>58.0</td>\n",
       "      <td>107.0</td>\n",
       "      <td>79.0</td>\n",
       "      <td>Site A</td>\n",
       "      <td>CONTROL</td>\n",
       "      <td>24</td>\n",
       "      <td>0</td>\n",
       "      <td>No</td>\n",
       "      <td>77.0</td>\n",
       "      <td>No</td>\n",
       "    </tr>\n",
       "    <tr>\n",
       "      <th>2</th>\n",
       "      <td>P00003</td>\n",
       "      <td>82</td>\n",
       "      <td>Female</td>\n",
       "      <td>-1.0</td>\n",
       "      <td>2023-11-04</td>\n",
       "      <td>123.0</td>\n",
       "      <td>86.0</td>\n",
       "      <td>172.0</td>\n",
       "      <td>56.0</td>\n",
       "      <td>82.0</td>\n",
       "      <td>77.0</td>\n",
       "      <td>SITE C</td>\n",
       "      <td>treatment b</td>\n",
       "      <td>2</td>\n",
       "      <td>0</td>\n",
       "      <td>Yes</td>\n",
       "      <td>70.0</td>\n",
       "      <td>No</td>\n",
       "    </tr>\n",
       "    <tr>\n",
       "      <th>3</th>\n",
       "      <td>P00004</td>\n",
       "      <td>95</td>\n",
       "      <td>Female</td>\n",
       "      <td>25.4</td>\n",
       "      <td>2022-08-15</td>\n",
       "      <td>116.0</td>\n",
       "      <td>77.0</td>\n",
       "      <td>200.0</td>\n",
       "      <td>56.0</td>\n",
       "      <td>104.0</td>\n",
       "      <td>115.0</td>\n",
       "      <td>Site D</td>\n",
       "      <td>treatment b</td>\n",
       "      <td>17</td>\n",
       "      <td>0</td>\n",
       "      <td>No</td>\n",
       "      <td>62.0</td>\n",
       "      <td>No</td>\n",
       "    </tr>\n",
       "    <tr>\n",
       "      <th>4</th>\n",
       "      <td>P00005</td>\n",
       "      <td>95</td>\n",
       "      <td>M</td>\n",
       "      <td>NaN</td>\n",
       "      <td>2023-04-17</td>\n",
       "      <td>97.0</td>\n",
       "      <td>71.0</td>\n",
       "      <td>185.0</td>\n",
       "      <td>78.0</td>\n",
       "      <td>75.0</td>\n",
       "      <td>113.0</td>\n",
       "      <td>site e</td>\n",
       "      <td>Treatmen A</td>\n",
       "      <td>9</td>\n",
       "      <td>0</td>\n",
       "      <td>yes</td>\n",
       "      <td>NaN</td>\n",
       "      <td>Yes</td>\n",
       "    </tr>\n",
       "    <tr>\n",
       "      <th>5</th>\n",
       "      <td>P00006</td>\n",
       "      <td>78</td>\n",
       "      <td>F</td>\n",
       "      <td>26.8</td>\n",
       "      <td>2023-08-29</td>\n",
       "      <td>116.0</td>\n",
       "      <td>66.0</td>\n",
       "      <td>164.0</td>\n",
       "      <td>54.0</td>\n",
       "      <td>99.0</td>\n",
       "      <td>99.0</td>\n",
       "      <td>Site A</td>\n",
       "      <td>TreatmentA</td>\n",
       "      <td>4</td>\n",
       "      <td>0</td>\n",
       "      <td>yes</td>\n",
       "      <td>NaN</td>\n",
       "      <td>Yes</td>\n",
       "    </tr>\n",
       "    <tr>\n",
       "      <th>6</th>\n",
       "      <td>P00007</td>\n",
       "      <td>84</td>\n",
       "      <td>F</td>\n",
       "      <td>25.4</td>\n",
       "      <td>2022-05-12</td>\n",
       "      <td>133.0</td>\n",
       "      <td>100.0</td>\n",
       "      <td>215.0</td>\n",
       "      <td>62.0</td>\n",
       "      <td>113.0</td>\n",
       "      <td>70.0</td>\n",
       "      <td>site a</td>\n",
       "      <td>treatment a</td>\n",
       "      <td>20</td>\n",
       "      <td>1</td>\n",
       "      <td>No</td>\n",
       "      <td>76.0</td>\n",
       "      <td>No</td>\n",
       "    </tr>\n",
       "    <tr>\n",
       "      <th>7</th>\n",
       "      <td>P00008</td>\n",
       "      <td>70</td>\n",
       "      <td>Male</td>\n",
       "      <td>24.7</td>\n",
       "      <td>2022-06-04</td>\n",
       "      <td>111.0</td>\n",
       "      <td>72.0</td>\n",
       "      <td>174.0</td>\n",
       "      <td>60.0</td>\n",
       "      <td>94.0</td>\n",
       "      <td>109.0</td>\n",
       "      <td>SITE B</td>\n",
       "      <td>TREATMENT A</td>\n",
       "      <td>19</td>\n",
       "      <td>0</td>\n",
       "      <td>No</td>\n",
       "      <td>53.0</td>\n",
       "      <td>No</td>\n",
       "    </tr>\n",
       "    <tr>\n",
       "      <th>8</th>\n",
       "      <td>P00009</td>\n",
       "      <td>92</td>\n",
       "      <td>Female</td>\n",
       "      <td>26.9</td>\n",
       "      <td>2022-04-06</td>\n",
       "      <td>NaN</td>\n",
       "      <td>NaN</td>\n",
       "      <td>189.0</td>\n",
       "      <td>62.0</td>\n",
       "      <td>89.0</td>\n",
       "      <td>103.0</td>\n",
       "      <td>site a</td>\n",
       "      <td>Control</td>\n",
       "      <td>21</td>\n",
       "      <td>0</td>\n",
       "      <td>yes</td>\n",
       "      <td>53.0</td>\n",
       "      <td>No</td>\n",
       "    </tr>\n",
       "    <tr>\n",
       "      <th>9</th>\n",
       "      <td>P00010</td>\n",
       "      <td>75</td>\n",
       "      <td>Male</td>\n",
       "      <td>21.1</td>\n",
       "      <td>2023-12-14</td>\n",
       "      <td>128.0</td>\n",
       "      <td>76.0</td>\n",
       "      <td>218.0</td>\n",
       "      <td>77.0</td>\n",
       "      <td>97.0</td>\n",
       "      <td>96.0</td>\n",
       "      <td>SITE A</td>\n",
       "      <td>Treatment B</td>\n",
       "      <td>1</td>\n",
       "      <td>0</td>\n",
       "      <td>No</td>\n",
       "      <td>50.0</td>\n",
       "      <td>No</td>\n",
       "    </tr>\n",
       "  </tbody>\n",
       "</table>\n",
       "</div>"
      ],
      "text/plain": [
       "  patient_id  age         sex   bmi enrollment_date  systolic_bp  \\\n",
       "0     P00001   80           F  29.3      2022-05-01        123.0   \n",
       "1     P00002   80    Female     NaN      2022-01-06        139.0   \n",
       "2     P00003   82      Female  -1.0      2023-11-04        123.0   \n",
       "3     P00004   95      Female  25.4      2022-08-15        116.0   \n",
       "4     P00005   95           M   NaN      2023-04-17         97.0   \n",
       "5     P00006   78           F  26.8      2023-08-29        116.0   \n",
       "6     P00007   84           F  25.4      2022-05-12        133.0   \n",
       "7     P00008   70        Male  24.7      2022-06-04        111.0   \n",
       "8     P00009   92      Female  26.9      2022-04-06          NaN   \n",
       "9     P00010   75        Male  21.1      2023-12-14        128.0   \n",
       "\n",
       "   diastolic_bp  cholesterol_total  cholesterol_hdl  cholesterol_ldl  \\\n",
       "0          80.0              120.0             55.0             41.0   \n",
       "1          81.0              206.0             58.0            107.0   \n",
       "2          86.0              172.0             56.0             82.0   \n",
       "3          77.0              200.0             56.0            104.0   \n",
       "4          71.0              185.0             78.0             75.0   \n",
       "5          66.0              164.0             54.0             99.0   \n",
       "6         100.0              215.0             62.0            113.0   \n",
       "7          72.0              174.0             60.0             94.0   \n",
       "8           NaN              189.0             62.0             89.0   \n",
       "9          76.0              218.0             77.0             97.0   \n",
       "\n",
       "   glucose_fasting    site intervention_group  follow_up_months  \\\n",
       "0            118.0  site b            Control                20   \n",
       "1             79.0  Site A            CONTROL                24   \n",
       "2             77.0  SITE C      treatment b                   2   \n",
       "3            115.0  Site D        treatment b                17   \n",
       "4            113.0  site e         Treatmen A                 9   \n",
       "5             99.0  Site A         TreatmentA                 4   \n",
       "6             70.0  site a        treatment a                20   \n",
       "7            109.0  SITE B        TREATMENT A                19   \n",
       "8            103.0  site a            Control                21   \n",
       "9             96.0  SITE A        Treatment B                 1   \n",
       "\n",
       "   adverse_events outcome_cvd  adherence_pct dropout  \n",
       "0               0          No           24.0      No  \n",
       "1               0          No           77.0      No  \n",
       "2               0         Yes           70.0      No  \n",
       "3               0          No           62.0      No  \n",
       "4               0         yes            NaN     Yes  \n",
       "5               0         yes            NaN     Yes  \n",
       "6               1          No           76.0      No  \n",
       "7               0          No           53.0      No  \n",
       "8               0         yes           53.0      No  \n",
       "9               0          No           50.0      No  "
      ]
     },
     "metadata": {},
     "output_type": "display_data"
    },
    {
     "name": "stdout",
     "output_type": "stream",
     "text": [
      "Summary Statistics:\n"
     ]
    },
    {
     "data": {
      "application/vnd.microsoft.datawrangler.viewer.v0+json": {
       "columns": [
        {
         "name": "index",
         "rawType": "object",
         "type": "string"
        },
        {
         "name": "age",
         "rawType": "float64",
         "type": "float"
        },
        {
         "name": "bmi",
         "rawType": "float64",
         "type": "float"
        },
        {
         "name": "systolic_bp",
         "rawType": "float64",
         "type": "float"
        },
        {
         "name": "diastolic_bp",
         "rawType": "float64",
         "type": "float"
        },
        {
         "name": "cholesterol_total",
         "rawType": "float64",
         "type": "float"
        },
        {
         "name": "cholesterol_hdl",
         "rawType": "float64",
         "type": "float"
        },
        {
         "name": "cholesterol_ldl",
         "rawType": "float64",
         "type": "float"
        },
        {
         "name": "glucose_fasting",
         "rawType": "float64",
         "type": "float"
        },
        {
         "name": "follow_up_months",
         "rawType": "float64",
         "type": "float"
        },
        {
         "name": "adverse_events",
         "rawType": "float64",
         "type": "float"
        },
        {
         "name": "adherence_pct",
         "rawType": "float64",
         "type": "float"
        }
       ],
       "ref": "798c3b68-b1d6-4aa6-af11-fe0e12c8e84e",
       "rows": [
        [
         "count",
         "10000.0",
         "9562.0",
         "9586.0",
         "9586.0",
         "9446.0",
         "9446.0",
         "9446.0",
         "9631.0",
         "10000.0",
         "10000.0",
         "8533.0"
        ],
        [
         "mean",
         "59.1827",
         "25.730558460573103",
         "117.53108700187774",
         "73.55090757354475",
         "178.0394876138048",
         "61.36978615286894",
         "85.69860258310396",
         "96.42425500986398",
         "12.2546",
         "0.1455",
         "60.61560998476503"
        ],
        [
         "std",
         "151.76996321039053",
         "5.339547134729456",
         "13.973972512504213",
         "10.167464024270336",
         "33.12903414290752",
         "11.062100737812544",
         "28.686463240908697",
         "17.112960765785328",
         "7.076749739724295",
         "0.3936308480346179",
         "18.974398575629433"
        ],
        [
         "min",
         "-999.0",
         "-1.0",
         "75.0",
         "60.0",
         "91.0",
         "25.0",
         "40.0",
         "51.0",
         "0.0",
         "0.0",
         "20.0"
        ],
        [
         "25%",
         "70.0",
         "23.5",
         "108.0",
         "65.0",
         "155.0",
         "54.0",
         "65.0",
         "84.0",
         "6.0",
         "0.0",
         "47.0"
        ],
        [
         "50%",
         "80.0",
         "26.0",
         "117.0",
         "73.0",
         "177.0",
         "61.0",
         "84.0",
         "96.0",
         "12.0",
         "0.0",
         "62.0"
        ],
        [
         "75%",
         "92.0",
         "28.775",
         "127.0",
         "81.0",
         "200.0",
         "69.0",
         "105.0",
         "108.0",
         "19.0",
         "0.0",
         "75.0"
        ],
        [
         "max",
         "100.0",
         "42.8",
         "173.0",
         "118.0",
         "315.0",
         "98.0",
         "226.0",
         "163.0",
         "24.0",
         "4.0",
         "100.0"
        ]
       ],
       "shape": {
        "columns": 11,
        "rows": 8
       }
      },
      "text/html": [
       "<div>\n",
       "<style scoped>\n",
       "    .dataframe tbody tr th:only-of-type {\n",
       "        vertical-align: middle;\n",
       "    }\n",
       "\n",
       "    .dataframe tbody tr th {\n",
       "        vertical-align: top;\n",
       "    }\n",
       "\n",
       "    .dataframe thead th {\n",
       "        text-align: right;\n",
       "    }\n",
       "</style>\n",
       "<table border=\"1\" class=\"dataframe\">\n",
       "  <thead>\n",
       "    <tr style=\"text-align: right;\">\n",
       "      <th></th>\n",
       "      <th>age</th>\n",
       "      <th>bmi</th>\n",
       "      <th>systolic_bp</th>\n",
       "      <th>diastolic_bp</th>\n",
       "      <th>cholesterol_total</th>\n",
       "      <th>cholesterol_hdl</th>\n",
       "      <th>cholesterol_ldl</th>\n",
       "      <th>glucose_fasting</th>\n",
       "      <th>follow_up_months</th>\n",
       "      <th>adverse_events</th>\n",
       "      <th>adherence_pct</th>\n",
       "    </tr>\n",
       "  </thead>\n",
       "  <tbody>\n",
       "    <tr>\n",
       "      <th>count</th>\n",
       "      <td>10000.000000</td>\n",
       "      <td>9562.000000</td>\n",
       "      <td>9586.000000</td>\n",
       "      <td>9586.000000</td>\n",
       "      <td>9446.000000</td>\n",
       "      <td>9446.000000</td>\n",
       "      <td>9446.000000</td>\n",
       "      <td>9631.000000</td>\n",
       "      <td>10000.00000</td>\n",
       "      <td>10000.000000</td>\n",
       "      <td>8533.000000</td>\n",
       "    </tr>\n",
       "    <tr>\n",
       "      <th>mean</th>\n",
       "      <td>59.182700</td>\n",
       "      <td>25.730558</td>\n",
       "      <td>117.531087</td>\n",
       "      <td>73.550908</td>\n",
       "      <td>178.039488</td>\n",
       "      <td>61.369786</td>\n",
       "      <td>85.698603</td>\n",
       "      <td>96.424255</td>\n",
       "      <td>12.25460</td>\n",
       "      <td>0.145500</td>\n",
       "      <td>60.615610</td>\n",
       "    </tr>\n",
       "    <tr>\n",
       "      <th>std</th>\n",
       "      <td>151.769963</td>\n",
       "      <td>5.339547</td>\n",
       "      <td>13.973973</td>\n",
       "      <td>10.167464</td>\n",
       "      <td>33.129034</td>\n",
       "      <td>11.062101</td>\n",
       "      <td>28.686463</td>\n",
       "      <td>17.112961</td>\n",
       "      <td>7.07675</td>\n",
       "      <td>0.393631</td>\n",
       "      <td>18.974399</td>\n",
       "    </tr>\n",
       "    <tr>\n",
       "      <th>min</th>\n",
       "      <td>-999.000000</td>\n",
       "      <td>-1.000000</td>\n",
       "      <td>75.000000</td>\n",
       "      <td>60.000000</td>\n",
       "      <td>91.000000</td>\n",
       "      <td>25.000000</td>\n",
       "      <td>40.000000</td>\n",
       "      <td>51.000000</td>\n",
       "      <td>0.00000</td>\n",
       "      <td>0.000000</td>\n",
       "      <td>20.000000</td>\n",
       "    </tr>\n",
       "    <tr>\n",
       "      <th>25%</th>\n",
       "      <td>70.000000</td>\n",
       "      <td>23.500000</td>\n",
       "      <td>108.000000</td>\n",
       "      <td>65.000000</td>\n",
       "      <td>155.000000</td>\n",
       "      <td>54.000000</td>\n",
       "      <td>65.000000</td>\n",
       "      <td>84.000000</td>\n",
       "      <td>6.00000</td>\n",
       "      <td>0.000000</td>\n",
       "      <td>47.000000</td>\n",
       "    </tr>\n",
       "    <tr>\n",
       "      <th>50%</th>\n",
       "      <td>80.000000</td>\n",
       "      <td>26.000000</td>\n",
       "      <td>117.000000</td>\n",
       "      <td>73.000000</td>\n",
       "      <td>177.000000</td>\n",
       "      <td>61.000000</td>\n",
       "      <td>84.000000</td>\n",
       "      <td>96.000000</td>\n",
       "      <td>12.00000</td>\n",
       "      <td>0.000000</td>\n",
       "      <td>62.000000</td>\n",
       "    </tr>\n",
       "    <tr>\n",
       "      <th>75%</th>\n",
       "      <td>92.000000</td>\n",
       "      <td>28.775000</td>\n",
       "      <td>127.000000</td>\n",
       "      <td>81.000000</td>\n",
       "      <td>200.000000</td>\n",
       "      <td>69.000000</td>\n",
       "      <td>105.000000</td>\n",
       "      <td>108.000000</td>\n",
       "      <td>19.00000</td>\n",
       "      <td>0.000000</td>\n",
       "      <td>75.000000</td>\n",
       "    </tr>\n",
       "    <tr>\n",
       "      <th>max</th>\n",
       "      <td>100.000000</td>\n",
       "      <td>42.800000</td>\n",
       "      <td>173.000000</td>\n",
       "      <td>118.000000</td>\n",
       "      <td>315.000000</td>\n",
       "      <td>98.000000</td>\n",
       "      <td>226.000000</td>\n",
       "      <td>163.000000</td>\n",
       "      <td>24.00000</td>\n",
       "      <td>4.000000</td>\n",
       "      <td>100.000000</td>\n",
       "    </tr>\n",
       "  </tbody>\n",
       "</table>\n",
       "</div>"
      ],
      "text/plain": [
       "                age          bmi  systolic_bp  diastolic_bp  \\\n",
       "count  10000.000000  9562.000000  9586.000000   9586.000000   \n",
       "mean      59.182700    25.730558   117.531087     73.550908   \n",
       "std      151.769963     5.339547    13.973973     10.167464   \n",
       "min     -999.000000    -1.000000    75.000000     60.000000   \n",
       "25%       70.000000    23.500000   108.000000     65.000000   \n",
       "50%       80.000000    26.000000   117.000000     73.000000   \n",
       "75%       92.000000    28.775000   127.000000     81.000000   \n",
       "max      100.000000    42.800000   173.000000    118.000000   \n",
       "\n",
       "       cholesterol_total  cholesterol_hdl  cholesterol_ldl  glucose_fasting  \\\n",
       "count        9446.000000      9446.000000      9446.000000      9631.000000   \n",
       "mean          178.039488        61.369786        85.698603        96.424255   \n",
       "std            33.129034        11.062101        28.686463        17.112961   \n",
       "min            91.000000        25.000000        40.000000        51.000000   \n",
       "25%           155.000000        54.000000        65.000000        84.000000   \n",
       "50%           177.000000        61.000000        84.000000        96.000000   \n",
       "75%           200.000000        69.000000       105.000000       108.000000   \n",
       "max           315.000000        98.000000       226.000000       163.000000   \n",
       "\n",
       "       follow_up_months  adverse_events  adherence_pct  \n",
       "count       10000.00000    10000.000000    8533.000000  \n",
       "mean           12.25460        0.145500      60.615610  \n",
       "std             7.07675        0.393631      18.974399  \n",
       "min             0.00000        0.000000      20.000000  \n",
       "25%             6.00000        0.000000      47.000000  \n",
       "50%            12.00000        0.000000      62.000000  \n",
       "75%            19.00000        0.000000      75.000000  \n",
       "max            24.00000        4.000000     100.000000  "
      ]
     },
     "metadata": {},
     "output_type": "display_data"
    }
   ],
   "source": [
    "# TODO: Display dataset info\n",
    "print(\"Dataset Shape:\")\n",
    "display(df.shape)\n",
    "\n",
    "print(\"Dataset Info:\")\n",
    "df.info()\n",
    "\n",
    "print(\"First 10 Rows:\")\n",
    "display(df.head(10))\n",
    "\n",
    "print(\"Summary Statistics:\")\n",
    "display(df.describe())"
   ]
  },
  {
   "cell_type": "markdown",
   "metadata": {},
   "source": [
    "## Part 2: Column Selection (3 points)\n",
    "\n",
    "Demonstrate different selection methods:\n",
    "\n",
    "1. Select only numeric columns using `.select_dtypes()`\n",
    "2. Select specific columns by name\n",
    "3. Select a subset of rows and columns using `.loc[]`"
   ]
  },
  {
   "cell_type": "code",
   "execution_count": 20,
   "metadata": {},
   "outputs": [
    {
     "name": "stdout",
     "output_type": "stream",
     "text": [
      "Select Numeric Columns:\n"
     ]
    },
    {
     "data": {
      "application/vnd.microsoft.datawrangler.viewer.v0+json": {
       "columns": [
        {
         "name": "index",
         "rawType": "int64",
         "type": "integer"
        },
        {
         "name": "age",
         "rawType": "int64",
         "type": "integer"
        },
        {
         "name": "bmi",
         "rawType": "float64",
         "type": "float"
        },
        {
         "name": "systolic_bp",
         "rawType": "float64",
         "type": "float"
        },
        {
         "name": "diastolic_bp",
         "rawType": "float64",
         "type": "float"
        },
        {
         "name": "cholesterol_total",
         "rawType": "float64",
         "type": "float"
        },
        {
         "name": "cholesterol_hdl",
         "rawType": "float64",
         "type": "float"
        },
        {
         "name": "cholesterol_ldl",
         "rawType": "float64",
         "type": "float"
        },
        {
         "name": "glucose_fasting",
         "rawType": "float64",
         "type": "float"
        },
        {
         "name": "follow_up_months",
         "rawType": "int64",
         "type": "integer"
        },
        {
         "name": "adverse_events",
         "rawType": "int64",
         "type": "integer"
        },
        {
         "name": "adherence_pct",
         "rawType": "float64",
         "type": "float"
        }
       ],
       "ref": "2b87d2fe-2ddd-435f-970c-1abaae105494",
       "rows": [
        [
         "0",
         "80",
         "29.3",
         "123.0",
         "80.0",
         "120.0",
         "55.0",
         "41.0",
         "118.0",
         "20",
         "0",
         "24.0"
        ],
        [
         "1",
         "80",
         null,
         "139.0",
         "81.0",
         "206.0",
         "58.0",
         "107.0",
         "79.0",
         "24",
         "0",
         "77.0"
        ],
        [
         "2",
         "82",
         "-1.0",
         "123.0",
         "86.0",
         "172.0",
         "56.0",
         "82.0",
         "77.0",
         "2",
         "0",
         "70.0"
        ],
        [
         "3",
         "95",
         "25.4",
         "116.0",
         "77.0",
         "200.0",
         "56.0",
         "104.0",
         "115.0",
         "17",
         "0",
         "62.0"
        ],
        [
         "4",
         "95",
         null,
         "97.0",
         "71.0",
         "185.0",
         "78.0",
         "75.0",
         "113.0",
         "9",
         "0",
         null
        ],
        [
         "5",
         "78",
         "26.8",
         "116.0",
         "66.0",
         "164.0",
         "54.0",
         "99.0",
         "99.0",
         "4",
         "0",
         null
        ],
        [
         "6",
         "84",
         "25.4",
         "133.0",
         "100.0",
         "215.0",
         "62.0",
         "113.0",
         "70.0",
         "20",
         "1",
         "76.0"
        ],
        [
         "7",
         "70",
         "24.7",
         "111.0",
         "72.0",
         "174.0",
         "60.0",
         "94.0",
         "109.0",
         "19",
         "0",
         "53.0"
        ],
        [
         "8",
         "92",
         "26.9",
         null,
         null,
         "189.0",
         "62.0",
         "89.0",
         "103.0",
         "21",
         "0",
         "53.0"
        ],
        [
         "9",
         "75",
         "21.1",
         "128.0",
         "76.0",
         "218.0",
         "77.0",
         "97.0",
         "96.0",
         "1",
         "0",
         "50.0"
        ],
        [
         "10",
         "79",
         "23.5",
         "110.0",
         "70.0",
         "216.0",
         "81.0",
         "92.0",
         "85.0",
         "7",
         "0",
         "39.0"
        ],
        [
         "11",
         "72",
         null,
         "106.0",
         "70.0",
         "167.0",
         "82.0",
         "52.0",
         "107.0",
         "7",
         "0",
         "100.0"
        ],
        [
         "12",
         "100",
         "28.0",
         "120.0",
         "87.0",
         "160.0",
         "82.0",
         "62.0",
         "120.0",
         "9",
         "0",
         "72.0"
        ],
        [
         "13",
         "100",
         "21.1",
         "105.0",
         "64.0",
         "160.0",
         "67.0",
         "61.0",
         "82.0",
         "2",
         "0",
         "47.0"
        ],
        [
         "14",
         "64",
         "32.8",
         "103.0",
         "73.0",
         "216.0",
         "61.0",
         "126.0",
         "123.0",
         "23",
         "1",
         "36.0"
        ],
        [
         "15",
         "60",
         "30.0",
         "104.0",
         "71.0",
         null,
         null,
         null,
         "105.0",
         "9",
         "0",
         "20.0"
        ],
        [
         "16",
         "65",
         "29.6",
         "118.0",
         "71.0",
         "164.0",
         "54.0",
         "77.0",
         "108.0",
         "16",
         "0",
         "71.0"
        ],
        [
         "17",
         "91",
         "23.2",
         "124.0",
         "83.0",
         "203.0",
         "46.0",
         "116.0",
         "96.0",
         "4",
         "0",
         "20.0"
        ],
        [
         "18",
         "100",
         "24.6",
         "115.0",
         "64.0",
         "164.0",
         "46.0",
         "85.0",
         "87.0",
         "24",
         "0",
         "66.0"
        ],
        [
         "19",
         "85",
         "24.0",
         "95.0",
         "60.0",
         "156.0",
         "85.0",
         "47.0",
         "89.0",
         "14",
         "0",
         "44.0"
        ],
        [
         "20",
         "70",
         "28.9",
         "131.0",
         "80.0",
         "217.0",
         "55.0",
         "119.0",
         "89.0",
         "22",
         "0",
         "72.0"
        ],
        [
         "21",
         "65",
         "24.9",
         "106.0",
         "67.0",
         "164.0",
         "66.0",
         "71.0",
         "86.0",
         "6",
         "0",
         "68.0"
        ],
        [
         "22",
         "62",
         "33.3",
         "125.0",
         "67.0",
         "192.0",
         "47.0",
         "107.0",
         "148.0",
         "6",
         "0",
         "75.0"
        ],
        [
         "23",
         "77",
         "24.9",
         "113.0",
         "71.0",
         "211.0",
         "58.0",
         "111.0",
         "89.0",
         "9",
         "0",
         "69.0"
        ],
        [
         "24",
         "90",
         "23.6",
         "107.0",
         "77.0",
         "100.0",
         "47.0",
         "49.0",
         "110.0",
         "15",
         "0",
         "75.0"
        ],
        [
         "25",
         "56",
         "22.9",
         "111.0",
         "78.0",
         "161.0",
         "56.0",
         "93.0",
         "87.0",
         "4",
         "0",
         "56.0"
        ],
        [
         "26",
         "95",
         "24.3",
         "116.0",
         "82.0",
         null,
         null,
         null,
         "83.0",
         "16",
         "0",
         "34.0"
        ],
        [
         "27",
         "74",
         "27.8",
         "114.0",
         "78.0",
         "233.0",
         "63.0",
         "129.0",
         "81.0",
         "8",
         "0",
         "68.0"
        ],
        [
         "28",
         "96",
         "24.6",
         "125.0",
         "83.0",
         "230.0",
         "76.0",
         "117.0",
         "102.0",
         "5",
         "0",
         "22.0"
        ],
        [
         "29",
         "71",
         "28.5",
         "126.0",
         "70.0",
         "187.0",
         "41.0",
         "113.0",
         "78.0",
         "19",
         "0",
         "80.0"
        ],
        [
         "30",
         "89",
         "28.1",
         "111.0",
         "60.0",
         "168.0",
         "37.0",
         "97.0",
         "105.0",
         "21",
         "0",
         "65.0"
        ],
        [
         "31",
         "81",
         "23.4",
         "115.0",
         "64.0",
         "180.0",
         "53.0",
         "102.0",
         "133.0",
         "18",
         "0",
         "40.0"
        ],
        [
         "32",
         "100",
         "22.3",
         "112.0",
         "60.0",
         "213.0",
         "39.0",
         "131.0",
         "91.0",
         "13",
         "1",
         "73.0"
        ],
        [
         "33",
         "83",
         "37.1",
         "143.0",
         "100.0",
         "187.0",
         "51.0",
         "99.0",
         "115.0",
         "24",
         "0",
         null
        ],
        [
         "34",
         "70",
         "34.4",
         "143.0",
         "73.0",
         "146.0",
         "69.0",
         "48.0",
         "156.0",
         "15",
         "0",
         "50.0"
        ],
        [
         "35",
         "89",
         "28.2",
         "90.0",
         "63.0",
         "209.0",
         "70.0",
         "97.0",
         "110.0",
         "22",
         "0",
         "55.0"
        ],
        [
         "36",
         "70",
         "22.6",
         "104.0",
         "67.0",
         "107.0",
         "58.0",
         "40.0",
         "107.0",
         "16",
         "0",
         "90.0"
        ],
        [
         "37",
         "92",
         "20.3",
         "114.0",
         "60.0",
         "224.0",
         "80.0",
         "102.0",
         "105.0",
         "4",
         "0",
         "99.0"
        ],
        [
         "38",
         "63",
         "25.4",
         null,
         null,
         "185.0",
         "60.0",
         "91.0",
         null,
         "14",
         "0",
         "68.0"
        ],
        [
         "39",
         "83",
         "30.7",
         "132.0",
         "78.0",
         null,
         null,
         null,
         "97.0",
         "9",
         "1",
         null
        ],
        [
         "40",
         "76",
         "34.8",
         "140.0",
         "81.0",
         "202.0",
         "50.0",
         "112.0",
         "95.0",
         "11",
         "0",
         "36.0"
        ],
        [
         "41",
         "71",
         "24.8",
         "98.0",
         "65.0",
         "124.0",
         "53.0",
         "66.0",
         "109.0",
         "22",
         "1",
         "74.0"
        ],
        [
         "42",
         "80",
         "25.7",
         "107.0",
         "60.0",
         "123.0",
         "56.0",
         "42.0",
         "92.0",
         "17",
         "0",
         "83.0"
        ],
        [
         "43",
         "62",
         "34.6",
         "137.0",
         "89.0",
         "132.0",
         "52.0",
         "69.0",
         "89.0",
         "1",
         "0",
         "46.0"
        ],
        [
         "44",
         "100",
         "29.0",
         "121.0",
         "81.0",
         "159.0",
         "58.0",
         "69.0",
         "104.0",
         "2",
         "0",
         "53.0"
        ],
        [
         "45",
         "81",
         "23.0",
         "103.0",
         "69.0",
         "242.0",
         "51.0",
         "143.0",
         "87.0",
         "9",
         "0",
         "77.0"
        ],
        [
         "46",
         "94",
         "26.8",
         "128.0",
         "87.0",
         "147.0",
         "48.0",
         "80.0",
         "83.0",
         "20",
         "0",
         null
        ],
        [
         "47",
         "100",
         "23.1",
         "103.0",
         "72.0",
         "98.0",
         "65.0",
         "40.0",
         "84.0",
         "3",
         "0",
         "42.0"
        ],
        [
         "48",
         "90",
         "26.7",
         "100.0",
         "82.0",
         "107.0",
         "56.0",
         "50.0",
         "85.0",
         "11",
         "0",
         "29.0"
        ],
        [
         "49",
         "92",
         "27.7",
         "132.0",
         "84.0",
         "239.0",
         "41.0",
         "150.0",
         "74.0",
         "15",
         "0",
         "81.0"
        ]
       ],
       "shape": {
        "columns": 11,
        "rows": 10000
       }
      },
      "text/html": [
       "<div>\n",
       "<style scoped>\n",
       "    .dataframe tbody tr th:only-of-type {\n",
       "        vertical-align: middle;\n",
       "    }\n",
       "\n",
       "    .dataframe tbody tr th {\n",
       "        vertical-align: top;\n",
       "    }\n",
       "\n",
       "    .dataframe thead th {\n",
       "        text-align: right;\n",
       "    }\n",
       "</style>\n",
       "<table border=\"1\" class=\"dataframe\">\n",
       "  <thead>\n",
       "    <tr style=\"text-align: right;\">\n",
       "      <th></th>\n",
       "      <th>age</th>\n",
       "      <th>bmi</th>\n",
       "      <th>systolic_bp</th>\n",
       "      <th>diastolic_bp</th>\n",
       "      <th>cholesterol_total</th>\n",
       "      <th>cholesterol_hdl</th>\n",
       "      <th>cholesterol_ldl</th>\n",
       "      <th>glucose_fasting</th>\n",
       "      <th>follow_up_months</th>\n",
       "      <th>adverse_events</th>\n",
       "      <th>adherence_pct</th>\n",
       "    </tr>\n",
       "  </thead>\n",
       "  <tbody>\n",
       "    <tr>\n",
       "      <th>0</th>\n",
       "      <td>80</td>\n",
       "      <td>29.3</td>\n",
       "      <td>123.0</td>\n",
       "      <td>80.0</td>\n",
       "      <td>120.0</td>\n",
       "      <td>55.0</td>\n",
       "      <td>41.0</td>\n",
       "      <td>118.0</td>\n",
       "      <td>20</td>\n",
       "      <td>0</td>\n",
       "      <td>24.0</td>\n",
       "    </tr>\n",
       "    <tr>\n",
       "      <th>1</th>\n",
       "      <td>80</td>\n",
       "      <td>NaN</td>\n",
       "      <td>139.0</td>\n",
       "      <td>81.0</td>\n",
       "      <td>206.0</td>\n",
       "      <td>58.0</td>\n",
       "      <td>107.0</td>\n",
       "      <td>79.0</td>\n",
       "      <td>24</td>\n",
       "      <td>0</td>\n",
       "      <td>77.0</td>\n",
       "    </tr>\n",
       "    <tr>\n",
       "      <th>2</th>\n",
       "      <td>82</td>\n",
       "      <td>-1.0</td>\n",
       "      <td>123.0</td>\n",
       "      <td>86.0</td>\n",
       "      <td>172.0</td>\n",
       "      <td>56.0</td>\n",
       "      <td>82.0</td>\n",
       "      <td>77.0</td>\n",
       "      <td>2</td>\n",
       "      <td>0</td>\n",
       "      <td>70.0</td>\n",
       "    </tr>\n",
       "    <tr>\n",
       "      <th>3</th>\n",
       "      <td>95</td>\n",
       "      <td>25.4</td>\n",
       "      <td>116.0</td>\n",
       "      <td>77.0</td>\n",
       "      <td>200.0</td>\n",
       "      <td>56.0</td>\n",
       "      <td>104.0</td>\n",
       "      <td>115.0</td>\n",
       "      <td>17</td>\n",
       "      <td>0</td>\n",
       "      <td>62.0</td>\n",
       "    </tr>\n",
       "    <tr>\n",
       "      <th>4</th>\n",
       "      <td>95</td>\n",
       "      <td>NaN</td>\n",
       "      <td>97.0</td>\n",
       "      <td>71.0</td>\n",
       "      <td>185.0</td>\n",
       "      <td>78.0</td>\n",
       "      <td>75.0</td>\n",
       "      <td>113.0</td>\n",
       "      <td>9</td>\n",
       "      <td>0</td>\n",
       "      <td>NaN</td>\n",
       "    </tr>\n",
       "    <tr>\n",
       "      <th>...</th>\n",
       "      <td>...</td>\n",
       "      <td>...</td>\n",
       "      <td>...</td>\n",
       "      <td>...</td>\n",
       "      <td>...</td>\n",
       "      <td>...</td>\n",
       "      <td>...</td>\n",
       "      <td>...</td>\n",
       "      <td>...</td>\n",
       "      <td>...</td>\n",
       "      <td>...</td>\n",
       "    </tr>\n",
       "    <tr>\n",
       "      <th>9995</th>\n",
       "      <td>72</td>\n",
       "      <td>23.2</td>\n",
       "      <td>122.0</td>\n",
       "      <td>73.0</td>\n",
       "      <td>182.0</td>\n",
       "      <td>54.0</td>\n",
       "      <td>92.0</td>\n",
       "      <td>97.0</td>\n",
       "      <td>21</td>\n",
       "      <td>0</td>\n",
       "      <td>20.0</td>\n",
       "    </tr>\n",
       "    <tr>\n",
       "      <th>9996</th>\n",
       "      <td>100</td>\n",
       "      <td>28.9</td>\n",
       "      <td>124.0</td>\n",
       "      <td>78.0</td>\n",
       "      <td>157.0</td>\n",
       "      <td>56.0</td>\n",
       "      <td>70.0</td>\n",
       "      <td>102.0</td>\n",
       "      <td>11</td>\n",
       "      <td>0</td>\n",
       "      <td>57.0</td>\n",
       "    </tr>\n",
       "    <tr>\n",
       "      <th>9997</th>\n",
       "      <td>78</td>\n",
       "      <td>23.8</td>\n",
       "      <td>110.0</td>\n",
       "      <td>63.0</td>\n",
       "      <td>154.0</td>\n",
       "      <td>69.0</td>\n",
       "      <td>71.0</td>\n",
       "      <td>114.0</td>\n",
       "      <td>2</td>\n",
       "      <td>1</td>\n",
       "      <td>77.0</td>\n",
       "    </tr>\n",
       "    <tr>\n",
       "      <th>9998</th>\n",
       "      <td>86</td>\n",
       "      <td>27.0</td>\n",
       "      <td>139.0</td>\n",
       "      <td>98.0</td>\n",
       "      <td>196.0</td>\n",
       "      <td>38.0</td>\n",
       "      <td>119.0</td>\n",
       "      <td>126.0</td>\n",
       "      <td>16</td>\n",
       "      <td>0</td>\n",
       "      <td>63.0</td>\n",
       "    </tr>\n",
       "    <tr>\n",
       "      <th>9999</th>\n",
       "      <td>67</td>\n",
       "      <td>29.4</td>\n",
       "      <td>134.0</td>\n",
       "      <td>83.0</td>\n",
       "      <td>197.0</td>\n",
       "      <td>51.0</td>\n",
       "      <td>117.0</td>\n",
       "      <td>128.0</td>\n",
       "      <td>22</td>\n",
       "      <td>0</td>\n",
       "      <td>48.0</td>\n",
       "    </tr>\n",
       "  </tbody>\n",
       "</table>\n",
       "<p>10000 rows × 11 columns</p>\n",
       "</div>"
      ],
      "text/plain": [
       "      age   bmi  systolic_bp  diastolic_bp  cholesterol_total  \\\n",
       "0      80  29.3        123.0          80.0              120.0   \n",
       "1      80   NaN        139.0          81.0              206.0   \n",
       "2      82  -1.0        123.0          86.0              172.0   \n",
       "3      95  25.4        116.0          77.0              200.0   \n",
       "4      95   NaN         97.0          71.0              185.0   \n",
       "...   ...   ...          ...           ...                ...   \n",
       "9995   72  23.2        122.0          73.0              182.0   \n",
       "9996  100  28.9        124.0          78.0              157.0   \n",
       "9997   78  23.8        110.0          63.0              154.0   \n",
       "9998   86  27.0        139.0          98.0              196.0   \n",
       "9999   67  29.4        134.0          83.0              197.0   \n",
       "\n",
       "      cholesterol_hdl  cholesterol_ldl  glucose_fasting  follow_up_months  \\\n",
       "0                55.0             41.0            118.0                20   \n",
       "1                58.0            107.0             79.0                24   \n",
       "2                56.0             82.0             77.0                 2   \n",
       "3                56.0            104.0            115.0                17   \n",
       "4                78.0             75.0            113.0                 9   \n",
       "...               ...              ...              ...               ...   \n",
       "9995             54.0             92.0             97.0                21   \n",
       "9996             56.0             70.0            102.0                11   \n",
       "9997             69.0             71.0            114.0                 2   \n",
       "9998             38.0            119.0            126.0                16   \n",
       "9999             51.0            117.0            128.0                22   \n",
       "\n",
       "      adverse_events  adherence_pct  \n",
       "0                  0           24.0  \n",
       "1                  0           77.0  \n",
       "2                  0           70.0  \n",
       "3                  0           62.0  \n",
       "4                  0            NaN  \n",
       "...              ...            ...  \n",
       "9995               0           20.0  \n",
       "9996               0           57.0  \n",
       "9997               1           77.0  \n",
       "9998               0           63.0  \n",
       "9999               0           48.0  \n",
       "\n",
       "[10000 rows x 11 columns]"
      ]
     },
     "execution_count": 20,
     "metadata": {},
     "output_type": "execute_result"
    }
   ],
   "source": [
    "# TODO: Select numeric columns\n",
    "print(\"Select Numeric Columns:\")\n",
    "df.select_dtypes(include=[np.number])"
   ]
  },
  {
   "cell_type": "code",
   "execution_count": 21,
   "metadata": {},
   "outputs": [
    {
     "name": "stdout",
     "output_type": "stream",
     "text": [
      "Select Specific Columns:\n"
     ]
    },
    {
     "data": {
      "application/vnd.microsoft.datawrangler.viewer.v0+json": {
       "columns": [
        {
         "name": "index",
         "rawType": "int64",
         "type": "integer"
        },
        {
         "name": "age",
         "rawType": "int64",
         "type": "integer"
        },
        {
         "name": "bmi",
         "rawType": "float64",
         "type": "float"
        },
        {
         "name": "systolic_bp",
         "rawType": "float64",
         "type": "float"
        }
       ],
       "ref": "c9083b32-7821-49ff-9ea7-c71d10ede83d",
       "rows": [
        [
         "0",
         "80",
         "29.3",
         "123.0"
        ],
        [
         "1",
         "80",
         null,
         "139.0"
        ],
        [
         "2",
         "82",
         "-1.0",
         "123.0"
        ],
        [
         "3",
         "95",
         "25.4",
         "116.0"
        ],
        [
         "4",
         "95",
         null,
         "97.0"
        ],
        [
         "5",
         "78",
         "26.8",
         "116.0"
        ],
        [
         "6",
         "84",
         "25.4",
         "133.0"
        ],
        [
         "7",
         "70",
         "24.7",
         "111.0"
        ],
        [
         "8",
         "92",
         "26.9",
         null
        ],
        [
         "9",
         "75",
         "21.1",
         "128.0"
        ],
        [
         "10",
         "79",
         "23.5",
         "110.0"
        ],
        [
         "11",
         "72",
         null,
         "106.0"
        ],
        [
         "12",
         "100",
         "28.0",
         "120.0"
        ],
        [
         "13",
         "100",
         "21.1",
         "105.0"
        ],
        [
         "14",
         "64",
         "32.8",
         "103.0"
        ],
        [
         "15",
         "60",
         "30.0",
         "104.0"
        ],
        [
         "16",
         "65",
         "29.6",
         "118.0"
        ],
        [
         "17",
         "91",
         "23.2",
         "124.0"
        ],
        [
         "18",
         "100",
         "24.6",
         "115.0"
        ],
        [
         "19",
         "85",
         "24.0",
         "95.0"
        ],
        [
         "20",
         "70",
         "28.9",
         "131.0"
        ],
        [
         "21",
         "65",
         "24.9",
         "106.0"
        ],
        [
         "22",
         "62",
         "33.3",
         "125.0"
        ],
        [
         "23",
         "77",
         "24.9",
         "113.0"
        ],
        [
         "24",
         "90",
         "23.6",
         "107.0"
        ],
        [
         "25",
         "56",
         "22.9",
         "111.0"
        ],
        [
         "26",
         "95",
         "24.3",
         "116.0"
        ],
        [
         "27",
         "74",
         "27.8",
         "114.0"
        ],
        [
         "28",
         "96",
         "24.6",
         "125.0"
        ],
        [
         "29",
         "71",
         "28.5",
         "126.0"
        ],
        [
         "30",
         "89",
         "28.1",
         "111.0"
        ],
        [
         "31",
         "81",
         "23.4",
         "115.0"
        ],
        [
         "32",
         "100",
         "22.3",
         "112.0"
        ],
        [
         "33",
         "83",
         "37.1",
         "143.0"
        ],
        [
         "34",
         "70",
         "34.4",
         "143.0"
        ],
        [
         "35",
         "89",
         "28.2",
         "90.0"
        ],
        [
         "36",
         "70",
         "22.6",
         "104.0"
        ],
        [
         "37",
         "92",
         "20.3",
         "114.0"
        ],
        [
         "38",
         "63",
         "25.4",
         null
        ],
        [
         "39",
         "83",
         "30.7",
         "132.0"
        ],
        [
         "40",
         "76",
         "34.8",
         "140.0"
        ],
        [
         "41",
         "71",
         "24.8",
         "98.0"
        ],
        [
         "42",
         "80",
         "25.7",
         "107.0"
        ],
        [
         "43",
         "62",
         "34.6",
         "137.0"
        ],
        [
         "44",
         "100",
         "29.0",
         "121.0"
        ],
        [
         "45",
         "81",
         "23.0",
         "103.0"
        ],
        [
         "46",
         "94",
         "26.8",
         "128.0"
        ],
        [
         "47",
         "100",
         "23.1",
         "103.0"
        ],
        [
         "48",
         "90",
         "26.7",
         "100.0"
        ],
        [
         "49",
         "92",
         "27.7",
         "132.0"
        ]
       ],
       "shape": {
        "columns": 3,
        "rows": 10000
       }
      },
      "text/html": [
       "<div>\n",
       "<style scoped>\n",
       "    .dataframe tbody tr th:only-of-type {\n",
       "        vertical-align: middle;\n",
       "    }\n",
       "\n",
       "    .dataframe tbody tr th {\n",
       "        vertical-align: top;\n",
       "    }\n",
       "\n",
       "    .dataframe thead th {\n",
       "        text-align: right;\n",
       "    }\n",
       "</style>\n",
       "<table border=\"1\" class=\"dataframe\">\n",
       "  <thead>\n",
       "    <tr style=\"text-align: right;\">\n",
       "      <th></th>\n",
       "      <th>age</th>\n",
       "      <th>bmi</th>\n",
       "      <th>systolic_bp</th>\n",
       "    </tr>\n",
       "  </thead>\n",
       "  <tbody>\n",
       "    <tr>\n",
       "      <th>0</th>\n",
       "      <td>80</td>\n",
       "      <td>29.3</td>\n",
       "      <td>123.0</td>\n",
       "    </tr>\n",
       "    <tr>\n",
       "      <th>1</th>\n",
       "      <td>80</td>\n",
       "      <td>NaN</td>\n",
       "      <td>139.0</td>\n",
       "    </tr>\n",
       "    <tr>\n",
       "      <th>2</th>\n",
       "      <td>82</td>\n",
       "      <td>-1.0</td>\n",
       "      <td>123.0</td>\n",
       "    </tr>\n",
       "    <tr>\n",
       "      <th>3</th>\n",
       "      <td>95</td>\n",
       "      <td>25.4</td>\n",
       "      <td>116.0</td>\n",
       "    </tr>\n",
       "    <tr>\n",
       "      <th>4</th>\n",
       "      <td>95</td>\n",
       "      <td>NaN</td>\n",
       "      <td>97.0</td>\n",
       "    </tr>\n",
       "    <tr>\n",
       "      <th>...</th>\n",
       "      <td>...</td>\n",
       "      <td>...</td>\n",
       "      <td>...</td>\n",
       "    </tr>\n",
       "    <tr>\n",
       "      <th>9995</th>\n",
       "      <td>72</td>\n",
       "      <td>23.2</td>\n",
       "      <td>122.0</td>\n",
       "    </tr>\n",
       "    <tr>\n",
       "      <th>9996</th>\n",
       "      <td>100</td>\n",
       "      <td>28.9</td>\n",
       "      <td>124.0</td>\n",
       "    </tr>\n",
       "    <tr>\n",
       "      <th>9997</th>\n",
       "      <td>78</td>\n",
       "      <td>23.8</td>\n",
       "      <td>110.0</td>\n",
       "    </tr>\n",
       "    <tr>\n",
       "      <th>9998</th>\n",
       "      <td>86</td>\n",
       "      <td>27.0</td>\n",
       "      <td>139.0</td>\n",
       "    </tr>\n",
       "    <tr>\n",
       "      <th>9999</th>\n",
       "      <td>67</td>\n",
       "      <td>29.4</td>\n",
       "      <td>134.0</td>\n",
       "    </tr>\n",
       "  </tbody>\n",
       "</table>\n",
       "<p>10000 rows × 3 columns</p>\n",
       "</div>"
      ],
      "text/plain": [
       "      age   bmi  systolic_bp\n",
       "0      80  29.3        123.0\n",
       "1      80   NaN        139.0\n",
       "2      82  -1.0        123.0\n",
       "3      95  25.4        116.0\n",
       "4      95   NaN         97.0\n",
       "...   ...   ...          ...\n",
       "9995   72  23.2        122.0\n",
       "9996  100  28.9        124.0\n",
       "9997   78  23.8        110.0\n",
       "9998   86  27.0        139.0\n",
       "9999   67  29.4        134.0\n",
       "\n",
       "[10000 rows x 3 columns]"
      ]
     },
     "execution_count": 21,
     "metadata": {},
     "output_type": "execute_result"
    }
   ],
   "source": [
    "# TODO: Select specific columns\n",
    "print(\"Select Specific Columns:\")\n",
    "df[[\"age\", \"bmi\", \"systolic_bp\"]]"
   ]
  },
  {
   "cell_type": "code",
   "execution_count": 22,
   "metadata": {},
   "outputs": [
    {
     "name": "stdout",
     "output_type": "stream",
     "text": [
      "Select Subset:\n"
     ]
    },
    {
     "data": {
      "application/vnd.microsoft.datawrangler.viewer.v0+json": {
       "columns": [
        {
         "name": "index",
         "rawType": "int64",
         "type": "integer"
        },
        {
         "name": "age",
         "rawType": "int64",
         "type": "integer"
        },
        {
         "name": "sex",
         "rawType": "object",
         "type": "string"
        },
        {
         "name": "bmi",
         "rawType": "float64",
         "type": "float"
        },
        {
         "name": "enrollment_date",
         "rawType": "object",
         "type": "string"
        },
        {
         "name": "systolic_bp",
         "rawType": "float64",
         "type": "float"
        }
       ],
       "ref": "fab25abc-5c14-4465-852c-9f8159b65e5f",
       "rows": [
        [
         "0",
         "80",
         "F",
         "29.3",
         "2022-05-01",
         "123.0"
        ],
        [
         "1",
         "80",
         "  Female  ",
         null,
         "2022-01-06",
         "139.0"
        ],
        [
         "2",
         "82",
         "Female",
         "-1.0",
         "2023-11-04",
         "123.0"
        ],
        [
         "3",
         "95",
         "Female",
         "25.4",
         "2022-08-15",
         "116.0"
        ],
        [
         "4",
         "95",
         "M",
         null,
         "2023-04-17",
         "97.0"
        ],
        [
         "5",
         "78",
         "F",
         "26.8",
         "2023-08-29",
         "116.0"
        ],
        [
         "6",
         "84",
         "F",
         "25.4",
         "2022-05-12",
         "133.0"
        ],
        [
         "7",
         "70",
         "Male",
         "24.7",
         "2022-06-04",
         "111.0"
        ],
        [
         "8",
         "92",
         "Female",
         "26.9",
         "2022-04-06",
         null
        ],
        [
         "9",
         "75",
         "Male",
         "21.1",
         "2023-12-14",
         "128.0"
        ],
        [
         "10",
         "79",
         "Female",
         "23.5",
         "2023-06-12",
         "110.0"
        ]
       ],
       "shape": {
        "columns": 5,
        "rows": 11
       }
      },
      "text/html": [
       "<div>\n",
       "<style scoped>\n",
       "    .dataframe tbody tr th:only-of-type {\n",
       "        vertical-align: middle;\n",
       "    }\n",
       "\n",
       "    .dataframe tbody tr th {\n",
       "        vertical-align: top;\n",
       "    }\n",
       "\n",
       "    .dataframe thead th {\n",
       "        text-align: right;\n",
       "    }\n",
       "</style>\n",
       "<table border=\"1\" class=\"dataframe\">\n",
       "  <thead>\n",
       "    <tr style=\"text-align: right;\">\n",
       "      <th></th>\n",
       "      <th>age</th>\n",
       "      <th>sex</th>\n",
       "      <th>bmi</th>\n",
       "      <th>enrollment_date</th>\n",
       "      <th>systolic_bp</th>\n",
       "    </tr>\n",
       "  </thead>\n",
       "  <tbody>\n",
       "    <tr>\n",
       "      <th>0</th>\n",
       "      <td>80</td>\n",
       "      <td>F</td>\n",
       "      <td>29.3</td>\n",
       "      <td>2022-05-01</td>\n",
       "      <td>123.0</td>\n",
       "    </tr>\n",
       "    <tr>\n",
       "      <th>1</th>\n",
       "      <td>80</td>\n",
       "      <td>Female</td>\n",
       "      <td>NaN</td>\n",
       "      <td>2022-01-06</td>\n",
       "      <td>139.0</td>\n",
       "    </tr>\n",
       "    <tr>\n",
       "      <th>2</th>\n",
       "      <td>82</td>\n",
       "      <td>Female</td>\n",
       "      <td>-1.0</td>\n",
       "      <td>2023-11-04</td>\n",
       "      <td>123.0</td>\n",
       "    </tr>\n",
       "    <tr>\n",
       "      <th>3</th>\n",
       "      <td>95</td>\n",
       "      <td>Female</td>\n",
       "      <td>25.4</td>\n",
       "      <td>2022-08-15</td>\n",
       "      <td>116.0</td>\n",
       "    </tr>\n",
       "    <tr>\n",
       "      <th>4</th>\n",
       "      <td>95</td>\n",
       "      <td>M</td>\n",
       "      <td>NaN</td>\n",
       "      <td>2023-04-17</td>\n",
       "      <td>97.0</td>\n",
       "    </tr>\n",
       "    <tr>\n",
       "      <th>5</th>\n",
       "      <td>78</td>\n",
       "      <td>F</td>\n",
       "      <td>26.8</td>\n",
       "      <td>2023-08-29</td>\n",
       "      <td>116.0</td>\n",
       "    </tr>\n",
       "    <tr>\n",
       "      <th>6</th>\n",
       "      <td>84</td>\n",
       "      <td>F</td>\n",
       "      <td>25.4</td>\n",
       "      <td>2022-05-12</td>\n",
       "      <td>133.0</td>\n",
       "    </tr>\n",
       "    <tr>\n",
       "      <th>7</th>\n",
       "      <td>70</td>\n",
       "      <td>Male</td>\n",
       "      <td>24.7</td>\n",
       "      <td>2022-06-04</td>\n",
       "      <td>111.0</td>\n",
       "    </tr>\n",
       "    <tr>\n",
       "      <th>8</th>\n",
       "      <td>92</td>\n",
       "      <td>Female</td>\n",
       "      <td>26.9</td>\n",
       "      <td>2022-04-06</td>\n",
       "      <td>NaN</td>\n",
       "    </tr>\n",
       "    <tr>\n",
       "      <th>9</th>\n",
       "      <td>75</td>\n",
       "      <td>Male</td>\n",
       "      <td>21.1</td>\n",
       "      <td>2023-12-14</td>\n",
       "      <td>128.0</td>\n",
       "    </tr>\n",
       "    <tr>\n",
       "      <th>10</th>\n",
       "      <td>79</td>\n",
       "      <td>Female</td>\n",
       "      <td>23.5</td>\n",
       "      <td>2023-06-12</td>\n",
       "      <td>110.0</td>\n",
       "    </tr>\n",
       "  </tbody>\n",
       "</table>\n",
       "</div>"
      ],
      "text/plain": [
       "    age         sex   bmi enrollment_date  systolic_bp\n",
       "0    80           F  29.3      2022-05-01        123.0\n",
       "1    80    Female     NaN      2022-01-06        139.0\n",
       "2    82      Female  -1.0      2023-11-04        123.0\n",
       "3    95      Female  25.4      2022-08-15        116.0\n",
       "4    95           M   NaN      2023-04-17         97.0\n",
       "5    78           F  26.8      2023-08-29        116.0\n",
       "6    84           F  25.4      2022-05-12        133.0\n",
       "7    70        Male  24.7      2022-06-04        111.0\n",
       "8    92      Female  26.9      2022-04-06          NaN\n",
       "9    75        Male  21.1      2023-12-14        128.0\n",
       "10   79      Female  23.5      2023-06-12        110.0"
      ]
     },
     "execution_count": 22,
     "metadata": {},
     "output_type": "execute_result"
    }
   ],
   "source": [
    "# TODO: Use .loc[] to select subset\n",
    "print(\"Select Subset:\")\n",
    "df.loc[0:10, \"age\":\"systolic_bp\"]"
   ]
  },
  {
   "cell_type": "markdown",
   "metadata": {},
   "source": [
    "## Part 3: Filtering (4 points)\n",
    "\n",
    "Filter the data to answer these questions:\n",
    "\n",
    "1. How many patients are over 65 years old?\n",
    "2. How many patients have systolic BP > 140?\n",
    "3. Find patients who are both over 65 AND have systolic BP > 140\n",
    "4. Find patients from Site A or Site B using `.isin()`"
   ]
  },
  {
   "cell_type": "code",
   "execution_count": 23,
   "metadata": {},
   "outputs": [
    {
     "name": "stdout",
     "output_type": "stream",
     "text": [
      "Patients Over 65: 8326\n"
     ]
    }
   ],
   "source": [
    "# TODO: Filter and count patients over 65\n",
    "# 1. Use the filter_data utility from Q3\n",
    "# 2. Create a filter for age > 65\n",
    "# 3. Apply the filter and count the results\n",
    "# print(f\"Patients over 65: {len(patients_over_65)}\")\n",
    "age_filter = {\"column\": \"age\", \"condition\": \"greater_than\", \"value\": 65}\n",
    "\n",
    "patients_over_65 = filter_data(df=df, filters=[age_filter])\n",
    "print(f\"Patients Over 65: {len(patients_over_65)}\")"
   ]
  },
  {
   "cell_type": "code",
   "execution_count": 24,
   "metadata": {},
   "outputs": [
    {
     "name": "stdout",
     "output_type": "stream",
     "text": [
      "Patients With High BP: 538\n"
     ]
    }
   ],
   "source": [
    "# TODO: Filter for high BP\n",
    "# 1. Use the filter_data utility from Q3\n",
    "# 2. Create a filter for systolic_bp > 140\n",
    "# 3. Apply the filter and count the results\n",
    "# print(f\"Patients with high BP: {len(high_bp)}\")\n",
    "systolic_bp_filter = {\n",
    "    \"column\": \"systolic_bp\",\n",
    "    \"condition\": \"greater_than\",\n",
    "    \"value\": 140,\n",
    "}\n",
    "\n",
    "high_bp = filter_data(df=df, filters=[systolic_bp_filter])\n",
    "print(f\"Patients With High BP: {len(high_bp)}\")"
   ]
  },
  {
   "cell_type": "code",
   "execution_count": 25,
   "metadata": {},
   "outputs": [
    {
     "name": "stdout",
     "output_type": "stream",
     "text": [
      "Patients Over 65 AND High BP: 464\n"
     ]
    }
   ],
   "source": [
    "# TODO: Multiple conditions with &\n",
    "# 1. Use filter_data for multiple conditions:\n",
    "# 2. Create filters for both conditions:\n",
    "#     {'column': 'age', 'condition': 'greater_than', 'value': 65},\n",
    "#     {'column': 'systolic_bp', 'condition': 'greater_than', 'value': 140}\n",
    "# ]\n",
    "# 3. Apply the filter and count the results\n",
    "# print(f\"Patients over 65 AND high BP: {len(both_conditions)}\")\n",
    "#\n",
    "# 5. Alternative: Use in_range for age range:\n",
    "# 5. Create filter for age range 65-100\n",
    "# 6. Apply the filter and count the results\n",
    "both_conditions = filter_data(df=df, filters=[age_filter, systolic_bp_filter])\n",
    "print(f\"Patients Over 65 AND High BP: {len(both_conditions)}\")"
   ]
  },
  {
   "cell_type": "code",
   "execution_count": 26,
   "metadata": {},
   "outputs": [
    {
     "name": "stdout",
     "output_type": "stream",
     "text": [
      "Patients from Site A or B: 5409\n"
     ]
    }
   ],
   "source": [
    "# TODO: Filter by site using .isin()\n",
    "# 1. Use the filter_data utility from Q3\n",
    "# 2. Create a filter for Site A or Site B\n",
    "# 3. Apply the filter and count the results\n",
    "# print(f\"Patients from Site A or B: {len(site_ab)}\")\n",
    "df[\"site\"] = (\n",
    "    df[\"site\"]  # Clean 'site' column\n",
    "    .str.strip()\n",
    "    .str.replace(\"_\", \" \")\n",
    "    .str.replace(r\"\\s+\", \" \", regex=True)\n",
    "    .str.lower()\n",
    ")\n",
    "\n",
    "site_filter = {\"column\": \"site\", \"condition\": \"in_list\", \"value\": [\"site a\", \"site b\"]}\n",
    "\n",
    "site_ab = filter_data(df=df, filters=[site_filter])\n",
    "print(f\"Patients from Site A or B: {len(site_ab)}\")"
   ]
  },
  {
   "cell_type": "markdown",
   "metadata": {},
   "source": [
    "## Part 4: Value Counts and Grouping (5 points)\n",
    "\n",
    "1. Get value counts for the 'site' column\n",
    "2. Get value counts for the 'intervention_group' column  \n",
    "3. Create a crosstab of site vs intervention_group\n",
    "4. Calculate mean age by site\n",
    "5. Save the site value counts to `output/q4_site_counts.csv`"
   ]
  },
  {
   "cell_type": "code",
   "execution_count": 29,
   "metadata": {},
   "outputs": [
    {
     "name": "stdout",
     "output_type": "stream",
     "text": [
      "Value Counts For Site:\n"
     ]
    },
    {
     "data": {
      "application/vnd.microsoft.datawrangler.viewer.v0+json": {
       "columns": [
        {
         "name": "site",
         "rawType": "object",
         "type": "string"
        },
        {
         "name": "count",
         "rawType": "int64",
         "type": "integer"
        }
       ],
       "ref": "484af2f6-e462-433c-8739-9c003fb8ae7f",
       "rows": [
        [
         "site a",
         "2956"
        ],
        [
         "site b",
         "2453"
        ],
        [
         "site c",
         "2073"
        ],
        [
         "site d",
         "1501"
        ],
        [
         "site e",
         "1017"
        ]
       ],
       "shape": {
        "columns": 1,
        "rows": 5
       }
      },
      "text/plain": [
       "site\n",
       "site a    2956\n",
       "site b    2453\n",
       "site c    2073\n",
       "site d    1501\n",
       "site e    1017\n",
       "Name: count, dtype: int64"
      ]
     },
     "metadata": {},
     "output_type": "display_data"
    },
    {
     "name": "stdout",
     "output_type": "stream",
     "text": [
      "\n",
      "Value Counts For Intervention Group:\n"
     ]
    },
    {
     "data": {
      "application/vnd.microsoft.datawrangler.viewer.v0+json": {
       "columns": [
        {
         "name": "intervention_group",
         "rawType": "object",
         "type": "string"
        },
        {
         "name": "count",
         "rawType": "int64",
         "type": "integer"
        }
       ],
       "ref": "13d330ce-c513-4534-8232-be1bbaa21fd4",
       "rows": [
        [
         "treatment b",
         "3342"
        ],
        [
         "control",
         "3337"
        ],
        [
         "treatment a",
         "3321"
        ]
       ],
       "shape": {
        "columns": 1,
        "rows": 3
       }
      },
      "text/plain": [
       "intervention_group\n",
       "treatment b    3342\n",
       "control        3337\n",
       "treatment a    3321\n",
       "Name: count, dtype: int64"
      ]
     },
     "metadata": {},
     "output_type": "display_data"
    },
    {
     "name": "stdout",
     "output_type": "stream",
     "text": [
      "\n",
      "Site vs Intervention Group Crosstab:\n"
     ]
    },
    {
     "data": {
      "application/vnd.microsoft.datawrangler.viewer.v0+json": {
       "columns": [
        {
         "name": "site",
         "rawType": "object",
         "type": "string"
        },
        {
         "name": "control",
         "rawType": "int64",
         "type": "integer"
        },
        {
         "name": "treatment a",
         "rawType": "int64",
         "type": "integer"
        },
        {
         "name": "treatment b",
         "rawType": "int64",
         "type": "integer"
        }
       ],
       "ref": "e7492367-0228-471a-92ba-4735c5729b74",
       "rows": [
        [
         "site a",
         "1023",
         "964",
         "969"
        ],
        [
         "site b",
         "780",
         "834",
         "839"
        ],
        [
         "site c",
         "709",
         "670",
         "694"
        ],
        [
         "site d",
         "490",
         "522",
         "489"
        ],
        [
         "site e",
         "335",
         "331",
         "351"
        ]
       ],
       "shape": {
        "columns": 3,
        "rows": 5
       }
      },
      "text/html": [
       "<div>\n",
       "<style scoped>\n",
       "    .dataframe tbody tr th:only-of-type {\n",
       "        vertical-align: middle;\n",
       "    }\n",
       "\n",
       "    .dataframe tbody tr th {\n",
       "        vertical-align: top;\n",
       "    }\n",
       "\n",
       "    .dataframe thead th {\n",
       "        text-align: right;\n",
       "    }\n",
       "</style>\n",
       "<table border=\"1\" class=\"dataframe\">\n",
       "  <thead>\n",
       "    <tr style=\"text-align: right;\">\n",
       "      <th>intervention_group</th>\n",
       "      <th>control</th>\n",
       "      <th>treatment a</th>\n",
       "      <th>treatment b</th>\n",
       "    </tr>\n",
       "    <tr>\n",
       "      <th>site</th>\n",
       "      <th></th>\n",
       "      <th></th>\n",
       "      <th></th>\n",
       "    </tr>\n",
       "  </thead>\n",
       "  <tbody>\n",
       "    <tr>\n",
       "      <th>site a</th>\n",
       "      <td>1023</td>\n",
       "      <td>964</td>\n",
       "      <td>969</td>\n",
       "    </tr>\n",
       "    <tr>\n",
       "      <th>site b</th>\n",
       "      <td>780</td>\n",
       "      <td>834</td>\n",
       "      <td>839</td>\n",
       "    </tr>\n",
       "    <tr>\n",
       "      <th>site c</th>\n",
       "      <td>709</td>\n",
       "      <td>670</td>\n",
       "      <td>694</td>\n",
       "    </tr>\n",
       "    <tr>\n",
       "      <th>site d</th>\n",
       "      <td>490</td>\n",
       "      <td>522</td>\n",
       "      <td>489</td>\n",
       "    </tr>\n",
       "    <tr>\n",
       "      <th>site e</th>\n",
       "      <td>335</td>\n",
       "      <td>331</td>\n",
       "      <td>351</td>\n",
       "    </tr>\n",
       "  </tbody>\n",
       "</table>\n",
       "</div>"
      ],
      "text/plain": [
       "intervention_group  control  treatment a  treatment b\n",
       "site                                                 \n",
       "site a                 1023          964          969\n",
       "site b                  780          834          839\n",
       "site c                  709          670          694\n",
       "site d                  490          522          489\n",
       "site e                  335          331          351"
      ]
     },
     "metadata": {},
     "output_type": "display_data"
    },
    {
     "name": "stdout",
     "output_type": "stream",
     "text": [
      "\n",
      "Mean Age By Site:\n"
     ]
    },
    {
     "data": {
      "application/vnd.microsoft.datawrangler.viewer.v0+json": {
       "columns": [
        {
         "name": "site",
         "rawType": "object",
         "type": "string"
        },
        {
         "name": "age",
         "rawType": "float64",
         "type": "float"
        }
       ],
       "ref": "5147c226-56a8-4145-a453-f581f4829d12",
       "rows": [
        [
         "site a",
         "56.36400541271989"
        ],
        [
         "site b",
         "62.40195678760701"
        ],
        [
         "site c",
         "57.31210805595755"
        ],
        [
         "site d",
         "63.49100599600266"
        ],
        [
         "site e",
         "57.064896755162245"
        ]
       ],
       "shape": {
        "columns": 1,
        "rows": 5
       }
      },
      "text/plain": [
       "site\n",
       "site a    56.364005\n",
       "site b    62.401957\n",
       "site c    57.312108\n",
       "site d    63.491006\n",
       "site e    57.064897\n",
       "Name: age, dtype: float64"
      ]
     },
     "metadata": {},
     "output_type": "display_data"
    }
   ],
   "source": [
    "# TODO: Value counts and analysis\n",
    "\n",
    "# Clean intervention_group column\n",
    "df[\"intervention_group\"] = (\n",
    "    df[\"intervention_group\"]\n",
    "    .astype(str)\n",
    "    .str.strip()\n",
    "    .str.replace(\"_\", \" \")\n",
    "    .str.replace(r\"\\s+\", \" \", regex=True)\n",
    "    .str.lower()\n",
    "    .str.replace(\"contrl\", \"control\")\n",
    "    .str.replace(\"treatmen a\", \"treatment a\")\n",
    "    .str.replace(\"treatmenta\", \"treatment a\")\n",
    ")\n",
    "\n",
    "site_counts = df[\"site\"].value_counts()\n",
    "print(\"Value Counts For Site:\")\n",
    "display(site_counts)\n",
    "\n",
    "intervention_counts = df[\"intervention_group\"].value_counts()\n",
    "print(\"\\nValue Counts For Intervention Group:\")\n",
    "display(intervention_counts)\n",
    "\n",
    "site_intervention_crosstab = pd.crosstab(df[\"site\"], df[\"intervention_group\"])\n",
    "print(\"\\nSite vs Intervention Group Crosstab:\")\n",
    "display(site_intervention_crosstab)\n",
    "\n",
    "mean_age_by_site = df.groupby(\"site\")[\"age\"].mean()\n",
    "print(\"\\nMean Age By Site:\")\n",
    "display(mean_age_by_site)\n"
   ]
  },
  {
   "cell_type": "code",
   "execution_count": 30,
   "metadata": {},
   "outputs": [],
   "source": [
    "# TODO: Save output\n",
    "site_counts.to_csv(\"output/q4_site_counts.csv\")"
   ]
  },
  {
   "cell_type": "markdown",
   "metadata": {},
   "source": [
    "## Summary\n",
    "\n",
    "Write 2-3 sentences about what you learned from exploring this dataset."
   ]
  },
  {
   "cell_type": "markdown",
   "metadata": {},
   "source": [
    "I learned that having the utility functions written in Q3 really supported my data exploration. Using both a Python file and a Jupyter notebook made it much easier to organize my code and interpret analysis outputs without creating a cluttered workspace. While exploring, I also discovered that the 'site' and 'intervention_group' columns contained inconsistent text formatting that required extra cleaning to produce accurate counts; something I wouldn’t have noticed without examining the data closely in this step!"
   ]
  }
 ],
 "metadata": {
  "kernelspec": {
   "display_name": "Python 3",
   "language": "python",
   "name": "python3"
  },
  "language_info": {
   "codemirror_mode": {
    "name": "ipython",
    "version": 3
   },
   "file_extension": ".py",
   "mimetype": "text/x-python",
   "name": "python",
   "nbconvert_exporter": "python",
   "pygments_lexer": "ipython3",
   "version": "3.13.5"
  }
 },
 "nbformat": 4,
 "nbformat_minor": 2
}

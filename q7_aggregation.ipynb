{
 "cells": [
  {
   "cell_type": "markdown",
   "metadata": {},
   "source": [
    "# Assignment 5, Question 7: Group Operations & Final Analysis\n",
    "\n",
    "**Points: 15**\n",
    "\n",
    "Perform grouped analysis and create summary reports."
   ]
  },
  {
   "cell_type": "markdown",
   "metadata": {},
   "source": [
    "## Setup"
   ]
  },
  {
   "cell_type": "code",
   "execution_count": 20,
   "metadata": {},
   "outputs": [
    {
     "name": "stdout",
     "output_type": "stream",
     "text": [
      "Loaded 10000 patients\n"
     ]
    }
   ],
   "source": [
    "import pandas as pd\n",
    "import numpy as np\n",
    "import matplotlib.pyplot as plt\n",
    "\n",
    "# Import utilities\n",
    "from q3_data_utils import load_data, summarize_by_group\n",
    "\n",
    "df = load_data(\"output/q5_cleaned_data.csv\")\n",
    "print(f\"Loaded {len(df)} patients\")\n",
    "\n",
    "\n",
    "# Prewritten visualization function for grouped analysis\n",
    "def plot_group_comparison(data, x_col, y_col, title):\n",
    "    \"\"\"\n",
    "    Create a bar chart comparing groups.\n",
    "\n",
    "    Args:\n",
    "        data: DataFrame with grouped data\n",
    "        x_col: Column name for x-axis (groups)\n",
    "        y_col: Column name for y-axis (values)\n",
    "        title: Chart title\n",
    "    \"\"\"\n",
    "    plt.figure(figsize=(10, 6))\n",
    "    data.plot(x=x_col, y=y_col, kind=\"bar\", color=\"#f4a7b9\")\n",
    "    plt.title(title)\n",
    "    plt.xticks(rotation=45)\n",
    "    plt.tight_layout()\n",
    "    plt.show()"
   ]
  },
  {
   "cell_type": "markdown",
   "metadata": {},
   "source": [
    "## Part 1: Basic Groupby (5 points)\n",
    "\n",
    "1. Group by 'site' and calculate mean age, BMI, and blood pressure\n",
    "2. Group by 'intervention_group' and count patients\n",
    "3. Use the `summarize_by_group()` utility to get overall statistics by site"
   ]
  },
  {
   "cell_type": "code",
   "execution_count": 27,
   "metadata": {},
   "outputs": [
    {
     "name": "stdout",
     "output_type": "stream",
     "text": [
      "Mean Age, BMI, And Blood Pressure By Site:\n"
     ]
    },
    {
     "data": {
      "application/vnd.microsoft.datawrangler.viewer.v0+json": {
       "columns": [
        {
         "name": "index",
         "rawType": "int64",
         "type": "integer"
        },
        {
         "name": "site",
         "rawType": "object",
         "type": "string"
        },
        {
         "name": "age",
         "rawType": "float64",
         "type": "float"
        },
        {
         "name": "bmi",
         "rawType": "float64",
         "type": "float"
        },
        {
         "name": "systolic_bp",
         "rawType": "float64",
         "type": "float"
        },
        {
         "name": "diastolic_bp",
         "rawType": "float64",
         "type": "float"
        }
       ],
       "ref": "3f9c3e03-eb6a-4d57-90c3-6269df9ad9f4",
       "rows": [
        [
         "0",
         "site a",
         "56.36",
         "25.88",
         "117.34",
         "73.53"
        ],
        [
         "1",
         "site b",
         "62.4",
         "25.72",
         "117.13",
         "73.3"
        ],
        [
         "2",
         "site c",
         "57.31",
         "25.8",
         "117.94",
         "73.65"
        ],
        [
         "3",
         "site d",
         "63.49",
         "25.59",
         "117.89",
         "73.6"
        ],
        [
         "4",
         "site e",
         "57.06",
         "25.51",
         "117.48",
         "73.72"
        ]
       ],
       "shape": {
        "columns": 5,
        "rows": 5
       }
      },
      "text/html": [
       "<div>\n",
       "<style scoped>\n",
       "    .dataframe tbody tr th:only-of-type {\n",
       "        vertical-align: middle;\n",
       "    }\n",
       "\n",
       "    .dataframe tbody tr th {\n",
       "        vertical-align: top;\n",
       "    }\n",
       "\n",
       "    .dataframe thead th {\n",
       "        text-align: right;\n",
       "    }\n",
       "</style>\n",
       "<table border=\"1\" class=\"dataframe\">\n",
       "  <thead>\n",
       "    <tr style=\"text-align: right;\">\n",
       "      <th></th>\n",
       "      <th>site</th>\n",
       "      <th>age</th>\n",
       "      <th>bmi</th>\n",
       "      <th>systolic_bp</th>\n",
       "      <th>diastolic_bp</th>\n",
       "    </tr>\n",
       "  </thead>\n",
       "  <tbody>\n",
       "    <tr>\n",
       "      <th>0</th>\n",
       "      <td>site a</td>\n",
       "      <td>56.36</td>\n",
       "      <td>25.88</td>\n",
       "      <td>117.34</td>\n",
       "      <td>73.53</td>\n",
       "    </tr>\n",
       "    <tr>\n",
       "      <th>1</th>\n",
       "      <td>site b</td>\n",
       "      <td>62.40</td>\n",
       "      <td>25.72</td>\n",
       "      <td>117.13</td>\n",
       "      <td>73.30</td>\n",
       "    </tr>\n",
       "    <tr>\n",
       "      <th>2</th>\n",
       "      <td>site c</td>\n",
       "      <td>57.31</td>\n",
       "      <td>25.80</td>\n",
       "      <td>117.94</td>\n",
       "      <td>73.65</td>\n",
       "    </tr>\n",
       "    <tr>\n",
       "      <th>3</th>\n",
       "      <td>site d</td>\n",
       "      <td>63.49</td>\n",
       "      <td>25.59</td>\n",
       "      <td>117.89</td>\n",
       "      <td>73.60</td>\n",
       "    </tr>\n",
       "    <tr>\n",
       "      <th>4</th>\n",
       "      <td>site e</td>\n",
       "      <td>57.06</td>\n",
       "      <td>25.51</td>\n",
       "      <td>117.48</td>\n",
       "      <td>73.72</td>\n",
       "    </tr>\n",
       "  </tbody>\n",
       "</table>\n",
       "</div>"
      ],
      "text/plain": [
       "     site    age    bmi  systolic_bp  diastolic_bp\n",
       "0  site a  56.36  25.88       117.34         73.53\n",
       "1  site b  62.40  25.72       117.13         73.30\n",
       "2  site c  57.31  25.80       117.94         73.65\n",
       "3  site d  63.49  25.59       117.89         73.60\n",
       "4  site e  57.06  25.51       117.48         73.72"
      ]
     },
     "metadata": {},
     "output_type": "display_data"
    }
   ],
   "source": [
    "# TODO: Group by site\n",
    "site_summary = (\n",
    "    df.groupby(\"site\")[[\"age\", \"bmi\", \"systolic_bp\", \"diastolic_bp\"]]\n",
    "    .mean()\n",
    "    .round(2)\n",
    "    .reset_index()\n",
    ")\n",
    "\n",
    "print(\"Mean Age, BMI, And Blood Pressure By Site:\")\n",
    "display(site_summary)"
   ]
  },
  {
   "cell_type": "code",
   "execution_count": 28,
   "metadata": {},
   "outputs": [
    {
     "name": "stdout",
     "output_type": "stream",
     "text": [
      "\n",
      "Patient Counts By Intervention Group:\n"
     ]
    },
    {
     "data": {
      "application/vnd.microsoft.datawrangler.viewer.v0+json": {
       "columns": [
        {
         "name": "index",
         "rawType": "int64",
         "type": "integer"
        },
        {
         "name": "intervention_group",
         "rawType": "object",
         "type": "string"
        },
        {
         "name": "patient_count",
         "rawType": "int64",
         "type": "integer"
        }
       ],
       "ref": "ed10ed18-6b5d-4843-9df4-60eb3776c11d",
       "rows": [
        [
         "0",
         "control",
         "3337"
        ],
        [
         "1",
         "treatment a",
         "3321"
        ],
        [
         "2",
         "treatment b",
         "3342"
        ]
       ],
       "shape": {
        "columns": 2,
        "rows": 3
       }
      },
      "text/html": [
       "<div>\n",
       "<style scoped>\n",
       "    .dataframe tbody tr th:only-of-type {\n",
       "        vertical-align: middle;\n",
       "    }\n",
       "\n",
       "    .dataframe tbody tr th {\n",
       "        vertical-align: top;\n",
       "    }\n",
       "\n",
       "    .dataframe thead th {\n",
       "        text-align: right;\n",
       "    }\n",
       "</style>\n",
       "<table border=\"1\" class=\"dataframe\">\n",
       "  <thead>\n",
       "    <tr style=\"text-align: right;\">\n",
       "      <th></th>\n",
       "      <th>intervention_group</th>\n",
       "      <th>patient_count</th>\n",
       "    </tr>\n",
       "  </thead>\n",
       "  <tbody>\n",
       "    <tr>\n",
       "      <th>0</th>\n",
       "      <td>control</td>\n",
       "      <td>3337</td>\n",
       "    </tr>\n",
       "    <tr>\n",
       "      <th>1</th>\n",
       "      <td>treatment a</td>\n",
       "      <td>3321</td>\n",
       "    </tr>\n",
       "    <tr>\n",
       "      <th>2</th>\n",
       "      <td>treatment b</td>\n",
       "      <td>3342</td>\n",
       "    </tr>\n",
       "  </tbody>\n",
       "</table>\n",
       "</div>"
      ],
      "text/plain": [
       "  intervention_group  patient_count\n",
       "0            control           3337\n",
       "1        treatment a           3321\n",
       "2        treatment b           3342"
      ]
     },
     "metadata": {},
     "output_type": "display_data"
    }
   ],
   "source": [
    "# TODO: Count by intervention group\n",
    "intervention_counts = (\n",
    "    df.groupby(\"intervention_group\")[\"patient_id\"].count().reset_index()\n",
    ")\n",
    "intervention_counts.columns = [\"intervention_group\", \"patient_count\"]\n",
    "\n",
    "print(\"\\nPatient Counts By Intervention Group:\")\n",
    "display(intervention_counts)"
   ]
  },
  {
   "cell_type": "markdown",
   "metadata": {},
   "source": [
    "**Note:** The `summarize_by_group()` function has an optional `agg_dict` parameter for custom aggregations. If you don't specify it, it will use `.describe()` on numeric columns. You can use `agg_dict={'age': ['mean', 'std'], 'bmi': 'mean'}` for custom aggregations.\n"
   ]
  },
  {
   "cell_type": "code",
   "execution_count": 29,
   "metadata": {},
   "outputs": [
    {
     "name": "stdout",
     "output_type": "stream",
     "text": [
      "\n",
      "Overall Summary Statistics By Site:\n"
     ]
    },
    {
     "data": {
      "application/vnd.microsoft.datawrangler.viewer.v0+json": {
       "columns": [
        {
         "name": "site",
         "rawType": "object",
         "type": "string"
        },
        {
         "name": "('age', 'mean')",
         "rawType": "float64",
         "type": "float"
        },
        {
         "name": "('age', 'std')",
         "rawType": "float64",
         "type": "float"
        },
        {
         "name": "('bmi', 'mean')",
         "rawType": "float64",
         "type": "float"
        },
        {
         "name": "('bmi', 'std')",
         "rawType": "float64",
         "type": "float"
        }
       ],
       "ref": "67d922aa-d5ea-4b2f-9735-24538fbc3f8c",
       "rows": [
        [
         "site a",
         "56.36400541271989",
         "162.5362917487149",
         "25.87868741542625",
         "4.912663883496107"
        ],
        [
         "site b",
         "62.40195678760701",
         "139.05017999752442",
         "25.718997146351406",
         "4.911262929387336"
        ],
        [
         "site c",
         "57.31210805595755",
         "157.9418681640632",
         "25.800241196333815",
         "5.278373862921891"
        ],
        [
         "site d",
         "63.49100599600266",
         "136.14005809846694",
         "25.58854097268488",
         "5.725171491156696"
        ],
        [
         "site e",
         "57.064896755162245",
         "157.69764413385596",
         "25.51150442477876",
         "5.878845315395913"
        ]
       ],
       "shape": {
        "columns": 4,
        "rows": 5
       }
      },
      "text/html": [
       "<div>\n",
       "<style scoped>\n",
       "    .dataframe tbody tr th:only-of-type {\n",
       "        vertical-align: middle;\n",
       "    }\n",
       "\n",
       "    .dataframe tbody tr th {\n",
       "        vertical-align: top;\n",
       "    }\n",
       "\n",
       "    .dataframe thead tr th {\n",
       "        text-align: left;\n",
       "    }\n",
       "\n",
       "    .dataframe thead tr:last-of-type th {\n",
       "        text-align: right;\n",
       "    }\n",
       "</style>\n",
       "<table border=\"1\" class=\"dataframe\">\n",
       "  <thead>\n",
       "    <tr>\n",
       "      <th></th>\n",
       "      <th colspan=\"2\" halign=\"left\">age</th>\n",
       "      <th colspan=\"2\" halign=\"left\">bmi</th>\n",
       "    </tr>\n",
       "    <tr>\n",
       "      <th></th>\n",
       "      <th>mean</th>\n",
       "      <th>std</th>\n",
       "      <th>mean</th>\n",
       "      <th>std</th>\n",
       "    </tr>\n",
       "    <tr>\n",
       "      <th>site</th>\n",
       "      <th></th>\n",
       "      <th></th>\n",
       "      <th></th>\n",
       "      <th></th>\n",
       "    </tr>\n",
       "  </thead>\n",
       "  <tbody>\n",
       "    <tr>\n",
       "      <th>site a</th>\n",
       "      <td>56.364005</td>\n",
       "      <td>162.536292</td>\n",
       "      <td>25.878687</td>\n",
       "      <td>4.912664</td>\n",
       "    </tr>\n",
       "    <tr>\n",
       "      <th>site b</th>\n",
       "      <td>62.401957</td>\n",
       "      <td>139.050180</td>\n",
       "      <td>25.718997</td>\n",
       "      <td>4.911263</td>\n",
       "    </tr>\n",
       "    <tr>\n",
       "      <th>site c</th>\n",
       "      <td>57.312108</td>\n",
       "      <td>157.941868</td>\n",
       "      <td>25.800241</td>\n",
       "      <td>5.278374</td>\n",
       "    </tr>\n",
       "    <tr>\n",
       "      <th>site d</th>\n",
       "      <td>63.491006</td>\n",
       "      <td>136.140058</td>\n",
       "      <td>25.588541</td>\n",
       "      <td>5.725171</td>\n",
       "    </tr>\n",
       "    <tr>\n",
       "      <th>site e</th>\n",
       "      <td>57.064897</td>\n",
       "      <td>157.697644</td>\n",
       "      <td>25.511504</td>\n",
       "      <td>5.878845</td>\n",
       "    </tr>\n",
       "  </tbody>\n",
       "</table>\n",
       "</div>"
      ],
      "text/plain": [
       "              age                    bmi          \n",
       "             mean         std       mean       std\n",
       "site                                              \n",
       "site a  56.364005  162.536292  25.878687  4.912664\n",
       "site b  62.401957  139.050180  25.718997  4.911263\n",
       "site c  57.312108  157.941868  25.800241  5.278374\n",
       "site d  63.491006  136.140058  25.588541  5.725171\n",
       "site e  57.064897  157.697644  25.511504  5.878845"
      ]
     },
     "metadata": {},
     "output_type": "display_data"
    }
   ],
   "source": [
    "# TODO: Use summarize_by_group utility\n",
    "overall_summary = summarize_by_group(\n",
    "    df, group_col=\"site\", agg_dict={\"age\": [\"mean\", \"std\"], \"bmi\": [\"mean\", \"std\"]}\n",
    ")\n",
    "\n",
    "print(\"\\nOverall Summary Statistics By Site:\")\n",
    "display(overall_summary)"
   ]
  },
  {
   "cell_type": "markdown",
   "metadata": {},
   "source": [
    "## Part 2: Multiple Aggregations (5 points)\n",
    "\n",
    "Group by 'site' and apply multiple aggregations:\n",
    "- age: mean, std, min, max\n",
    "- bmi: mean, std\n",
    "- systolic_bp: mean, median\n",
    "\n",
    "Display the results in a well-formatted table."
   ]
  },
  {
   "cell_type": "code",
   "execution_count": 30,
   "metadata": {},
   "outputs": [
    {
     "name": "stdout",
     "output_type": "stream",
     "text": [
      "Multiple Aggregations By Site:\n"
     ]
    },
    {
     "data": {
      "application/vnd.microsoft.datawrangler.viewer.v0+json": {
       "columns": [
        {
         "name": "site",
         "rawType": "object",
         "type": "string"
        },
        {
         "name": "age_mean",
         "rawType": "float64",
         "type": "float"
        },
        {
         "name": "age_std",
         "rawType": "float64",
         "type": "float"
        },
        {
         "name": "age_min",
         "rawType": "int64",
         "type": "integer"
        },
        {
         "name": "age_max",
         "rawType": "int64",
         "type": "integer"
        },
        {
         "name": "bmi_mean",
         "rawType": "float64",
         "type": "float"
        },
        {
         "name": "bmi_std",
         "rawType": "float64",
         "type": "float"
        },
        {
         "name": "systolic_bp_mean",
         "rawType": "float64",
         "type": "float"
        },
        {
         "name": "systolic_bp_median",
         "rawType": "float64",
         "type": "float"
        }
       ],
       "ref": "36785e2e-3e50-44c6-a4d2-1c42bb7b54ca",
       "rows": [
        [
         "site a",
         "56.36",
         "162.54",
         "-999",
         "100",
         "25.88",
         "4.91",
         "117.34",
         "117.0"
        ],
        [
         "site b",
         "62.4",
         "139.05",
         "-999",
         "100",
         "25.72",
         "4.91",
         "117.13",
         "117.0"
        ],
        [
         "site c",
         "57.31",
         "157.94",
         "-999",
         "100",
         "25.8",
         "5.28",
         "117.94",
         "117.0"
        ],
        [
         "site d",
         "63.49",
         "136.14",
         "-999",
         "100",
         "25.59",
         "5.73",
         "117.89",
         "117.0"
        ],
        [
         "site e",
         "57.06",
         "157.7",
         "-999",
         "100",
         "25.51",
         "5.88",
         "117.48",
         "117.0"
        ]
       ],
       "shape": {
        "columns": 8,
        "rows": 5
       }
      },
      "text/html": [
       "<div>\n",
       "<style scoped>\n",
       "    .dataframe tbody tr th:only-of-type {\n",
       "        vertical-align: middle;\n",
       "    }\n",
       "\n",
       "    .dataframe tbody tr th {\n",
       "        vertical-align: top;\n",
       "    }\n",
       "\n",
       "    .dataframe thead th {\n",
       "        text-align: right;\n",
       "    }\n",
       "</style>\n",
       "<table border=\"1\" class=\"dataframe\">\n",
       "  <thead>\n",
       "    <tr style=\"text-align: right;\">\n",
       "      <th></th>\n",
       "      <th>age_mean</th>\n",
       "      <th>age_std</th>\n",
       "      <th>age_min</th>\n",
       "      <th>age_max</th>\n",
       "      <th>bmi_mean</th>\n",
       "      <th>bmi_std</th>\n",
       "      <th>systolic_bp_mean</th>\n",
       "      <th>systolic_bp_median</th>\n",
       "    </tr>\n",
       "    <tr>\n",
       "      <th>site</th>\n",
       "      <th></th>\n",
       "      <th></th>\n",
       "      <th></th>\n",
       "      <th></th>\n",
       "      <th></th>\n",
       "      <th></th>\n",
       "      <th></th>\n",
       "      <th></th>\n",
       "    </tr>\n",
       "  </thead>\n",
       "  <tbody>\n",
       "    <tr>\n",
       "      <th>site a</th>\n",
       "      <td>56.36</td>\n",
       "      <td>162.54</td>\n",
       "      <td>-999</td>\n",
       "      <td>100</td>\n",
       "      <td>25.88</td>\n",
       "      <td>4.91</td>\n",
       "      <td>117.34</td>\n",
       "      <td>117.0</td>\n",
       "    </tr>\n",
       "    <tr>\n",
       "      <th>site b</th>\n",
       "      <td>62.40</td>\n",
       "      <td>139.05</td>\n",
       "      <td>-999</td>\n",
       "      <td>100</td>\n",
       "      <td>25.72</td>\n",
       "      <td>4.91</td>\n",
       "      <td>117.13</td>\n",
       "      <td>117.0</td>\n",
       "    </tr>\n",
       "    <tr>\n",
       "      <th>site c</th>\n",
       "      <td>57.31</td>\n",
       "      <td>157.94</td>\n",
       "      <td>-999</td>\n",
       "      <td>100</td>\n",
       "      <td>25.80</td>\n",
       "      <td>5.28</td>\n",
       "      <td>117.94</td>\n",
       "      <td>117.0</td>\n",
       "    </tr>\n",
       "    <tr>\n",
       "      <th>site d</th>\n",
       "      <td>63.49</td>\n",
       "      <td>136.14</td>\n",
       "      <td>-999</td>\n",
       "      <td>100</td>\n",
       "      <td>25.59</td>\n",
       "      <td>5.73</td>\n",
       "      <td>117.89</td>\n",
       "      <td>117.0</td>\n",
       "    </tr>\n",
       "    <tr>\n",
       "      <th>site e</th>\n",
       "      <td>57.06</td>\n",
       "      <td>157.70</td>\n",
       "      <td>-999</td>\n",
       "      <td>100</td>\n",
       "      <td>25.51</td>\n",
       "      <td>5.88</td>\n",
       "      <td>117.48</td>\n",
       "      <td>117.0</td>\n",
       "    </tr>\n",
       "  </tbody>\n",
       "</table>\n",
       "</div>"
      ],
      "text/plain": [
       "        age_mean  age_std  age_min  age_max  bmi_mean  bmi_std  \\\n",
       "site                                                             \n",
       "site a     56.36   162.54     -999      100     25.88     4.91   \n",
       "site b     62.40   139.05     -999      100     25.72     4.91   \n",
       "site c     57.31   157.94     -999      100     25.80     5.28   \n",
       "site d     63.49   136.14     -999      100     25.59     5.73   \n",
       "site e     57.06   157.70     -999      100     25.51     5.88   \n",
       "\n",
       "        systolic_bp_mean  systolic_bp_median  \n",
       "site                                          \n",
       "site a            117.34               117.0  \n",
       "site b            117.13               117.0  \n",
       "site c            117.94               117.0  \n",
       "site d            117.89               117.0  \n",
       "site e            117.48               117.0  "
      ]
     },
     "metadata": {},
     "output_type": "display_data"
    }
   ],
   "source": [
    "# TODO: Multiple aggregations\n",
    "for col in [\"age\", \"bmi\", \"systolic_bp\"]:\n",
    "    if col in df.columns:\n",
    "        df[col] = pd.to_numeric(df[col], errors=\"coerce\")\n",
    "\n",
    "multi_agg = df.groupby(\"site\").agg(\n",
    "    {\n",
    "        \"age\": [\"mean\", \"std\", \"min\", \"max\"],\n",
    "        \"bmi\": [\"mean\", \"std\"],\n",
    "        \"systolic_bp\": [\"mean\", \"median\"],\n",
    "    }\n",
    ")\n",
    "\n",
    "multi_agg = multi_agg.round(2)\n",
    "multi_agg.columns = [\"_\".join(col).strip() for col in multi_agg.columns.values]\n",
    "\n",
    "print(\"Multiple Aggregations By Site:\")\n",
    "display(multi_agg)"
   ]
  },
  {
   "cell_type": "markdown",
   "metadata": {},
   "source": [
    "## Part 3: Comparative Analysis (5 points)\n",
    "\n",
    "Compare intervention groups:\n",
    "1. Calculate mean outcome_cvd rate by intervention_group\n",
    "2. Calculate mean adherence_pct by intervention_group\n",
    "3. Create a cross-tabulation of intervention_group vs dropout status\n",
    "4. Visualize the comparison with a bar plot"
   ]
  },
  {
   "cell_type": "code",
   "execution_count": null,
   "metadata": {},
   "outputs": [
    {
     "name": "stdout",
     "output_type": "stream",
     "text": [
      "  intervention_group  mean_outcome_cvd\n",
      "0            control          0.336530\n",
      "1        treatment a          0.319482\n",
      "2        treatment b          0.333633\n",
      "  intervention_group  mean_adherence_pct\n",
      "0            control           60.830686\n",
      "1        treatment a           60.474255\n",
      "2        treatment b           61.149013\n",
      "dropout               No  Yes\n",
      "intervention_group           \n",
      "control             2831  506\n",
      "treatment a         2831  490\n",
      "treatment b         2871  471\n"
     ]
    }
   ],
   "source": [
    "# TODO: Intervention group comparisons\n",
    "# Clean outcome_cvd and adherence_pct so they're numeric\n",
    "for col in [\"outcome_cvd\", \"adherence_pct\"]:\n",
    "    if col in df.columns:\n",
    "        df[col] = (\n",
    "            df[col]\n",
    "            .astype(str)\n",
    "            .str.strip()\n",
    "            .str.lower()\n",
    "            .replace(\n",
    "                {\"yes\": 1, \"no\": 0, \"true\": 1, \"false\": 0, \"na\": np.nan, \"\": np.nan}\n",
    "            )\n",
    "        )\n",
    "        df[col] = pd.to_numeric(df[col], errors=\"coerce\")\n",
    "\n",
    "# Calculate mean outcome_cvd rate by intervention_group\n",
    "df_copy = df.copy()\n",
    "cvd_summary = (\n",
    "    df_copy.groupby(\"intervention_group\")[\"outcome_cvd\"]\n",
    "    .mean()\n",
    "    .reset_index(name=\"mean_outcome_cvd\")\n",
    ")\n",
    "print(cvd_summary)\n",
    "\n",
    "# Calculate mean adherence_pct by intervention_group\n",
    "adherence_summary = (\n",
    "    df_copy.groupby(\"intervention_group\")[\"adherence_pct\"]\n",
    "    .mean()\n",
    "    .reset_index(name=\"mean_adherence_pct\")\n",
    ")\n",
    "print(adherence_summary)\n",
    "\n",
    "# Create a cross-tabulation of intervention_group vs dropout\n",
    "cross_tab_inter_dropout = pd.crosstab(df_copy[\"intervention_group\"], df_copy[\"dropout\"])\n",
    "print(cross_tab_inter_dropout)"
   ]
  },
  {
   "cell_type": "code",
   "execution_count": 51,
   "metadata": {},
   "outputs": [
    {
     "data": {
      "text/plain": [
       "<Figure size 1000x600 with 0 Axes>"
      ]
     },
     "metadata": {},
     "output_type": "display_data"
    },
    {
     "data": {
      "image/png": "[encoded data removed]",
      "text/plain": [
       "<Figure size 640x480 with 1 Axes>"
      ]
     },
     "metadata": {},
     "output_type": "display_data"
    },
    {
     "data": {
      "text/plain": [
       "<Figure size 1000x600 with 0 Axes>"
      ]
     },
     "metadata": {},
     "output_type": "display_data"
    },
    {
     "data": {
      "image/png": "[encoded data removed]",
      "text/plain": [
       "<Figure size 640x480 with 1 Axes>"
      ]
     },
     "metadata": {},
     "output_type": "display_data"
    },
    {
     "data": {
      "text/plain": [
       "<Axes: title={'center': 'Dropout Counts by Intervention Group'}, xlabel='intervention_group'>"
      ]
     },
     "execution_count": 51,
     "metadata": {},
     "output_type": "execute_result"
    },
    {
     "data": {
      "image/png": "[encoded data removed]",
      "text/plain": [
       "<Figure size 700x500 with 1 Axes>"
      ]
     },
     "metadata": {},
     "output_type": "display_data"
    }
   ],
   "source": [
    "# TODO: Visualization\n",
    "plot_group_comparison(\n",
    "    cvd_summary,\n",
    "    x_col=\"intervention_group\",\n",
    "    y_col=\"mean_outcome_cvd\",\n",
    "    title=\"Mean CVD Rate by Intervention Group\",\n",
    ")\n",
    "\n",
    "plot_group_comparison(\n",
    "    adherence_summary,\n",
    "    x_col=\"intervention_group\",\n",
    "    y_col=\"mean_adherence_pct\",\n",
    "    title=\"Mean Adherence PCT by Intervention Group\",\n",
    ")\n",
    "\n",
    "cross_tab_inter_dropout.plot(\n",
    "    kind=\"bar\",\n",
    "    color=[\"#a6cee3\", \"#f3bee8\"],  # soft blue and gold\n",
    "    title=\"Dropout Counts by Intervention Group\",\n",
    "    figsize=(7, 5),\n",
    ")"
   ]
  },
  {
   "cell_type": "markdown",
   "metadata": {},
   "source": [
    "## Part 4: Final Report\n",
    "\n",
    "Create and save:\n",
    "1. Summary statistics by site → `output/q7_site_summary.csv`\n",
    "2. Intervention group comparison → `output/q7_intervention_comparison.csv`\n",
    "3. Text report with key findings → `output/q7_analysis_report.txt`"
   ]
  },
  {
   "cell_type": "code",
   "execution_count": 42,
   "metadata": {},
   "outputs": [
    {
     "name": "stdout",
     "output_type": "stream",
     "text": [
      "Saved: output/q7_site_summary.csv, output/q7_intervention_comparison.csv, output/q7_analysis_report.txt\n"
     ]
    }
   ],
   "source": [
    "# TODO: Save summary outputs\n",
    "site_summary.round(2).to_csv(\"output/q7_site_summary.csv\", index=False)\n",
    "\n",
    "intervention_comparison = pd.merge(\n",
    "    cvd_summary, adherence_summary, on=\"intervention_group\", how=\"outer\"\n",
    ")\n",
    "intervention_comparison.to_csv(\"output/q7_intervention_comparison.csv\", index=False)\n",
    "\n",
    "best_group = intervention_comparison.loc[\n",
    "    intervention_comparison[\"mean_outcome_cvd\"].idxmin(), \"intervention_group\"\n",
    "]\n",
    "\n",
    "report = [\n",
    "    \"Final Report\",\n",
    "    \"======================\",\n",
    "    \"\",\n",
    "    \"Summary by Site (Mean Age, BMI, And Blood Pressure By Site:):\",\n",
    "    site_summary.to_string(index=False),\n",
    "    \"\",\n",
    "    \"Intervention Group Comparison:\",\n",
    "    \"   Mean outcome_cvd By Group:\",\n",
    "    cvd_summary.round(3).to_string(index=False),\n",
    "    \"\",\n",
    "    \"   Mean adherence_pct By Group:\",\n",
    "    adherence_summary.round(2).to_string(index=False),\n",
    "    \"\",\n",
    "    \"→ When grouped by site, Site D shows the highest mean age, while mean BMI and systolic blood pressure remain relatively consistent across all sites.\",\n",
    "    \"→ The mean outcome_CVD rate is highest in the Control group, whereas mean adherence percentage is greatest for Treatment B.\",\n",
    "    \"→ The outcome_CVD and adherence_pct values are relatively consistent across all groups.\",\n",
    "]\n",
    "\n",
    "with open(\"output/q7_analysis_report.txt\", \"w\") as f:\n",
    "    f.write(\"\\n\".join(report))\n",
    "\n",
    "print(\n",
    "    \"Saved:\",\n",
    "    \"output/q7_site_summary.csv,\",\n",
    "    \"output/q7_intervention_comparison.csv,\",\n",
    "    \"output/q7_analysis_report.txt\",\n",
    ")"
   ]
  },
  {
   "cell_type": "markdown",
   "metadata": {},
   "source": [
    "## Summary\n",
    "\n",
    "What are the 3 most important findings from your analysis?"
   ]
  },
  {
   "cell_type": "markdown",
   "metadata": {},
   "source": [
    "**Key Findings:**\n",
    "\n",
    "→ When grouped by site, Site D shows the highest mean age, while mean BMI and systolic blood pressure remain relatively consistent across all sites. \n",
    "\n",
    "→ The mean outcome_CVD rate is highest in the Control group, whereas mean adherence percentage is greatest for Treatment B.\n",
    "\n",
    "→ The outcome_CVD and adherence_pct values are relatively consistent across all groups.\n"
   ]
  }
 ],
 "metadata": {
  "kernelspec": {
   "display_name": "Python 3",
   "language": "python",
   "name": "python3"
  },
  "language_info": {
   "codemirror_mode": {
    "name": "ipython",
    "version": 3
   },
   "file_extension": ".py",
   "mimetype": "text/x-python",
   "name": "python",
   "nbconvert_exporter": "python",
   "pygments_lexer": "ipython3",
   "version": "3.13.5"
  }
 },
 "nbformat": 4,
 "nbformat_minor": 2
}
